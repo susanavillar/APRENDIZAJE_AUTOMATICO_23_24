{
  "cells": [
    {
      "cell_type": "markdown",
      "metadata": {
        "id": "view-in-github",
        "colab_type": "text"
      },
      "source": [
        "<a href=\"https://colab.research.google.com/github/susanavillar/APRENDIZAJE_AUTOMATICO_23_24/blob/main/0%20INTRODUCCION/0.3.%20Vectores%20y%20matrices.ipynb\" target=\"_parent\"><img src=\"https://colab.research.google.com/assets/colab-badge.svg\" alt=\"Open In Colab\"/></a>"
      ]
    },
    {
      "cell_type": "code",
      "execution_count": null,
      "metadata": {
        "pycharm": {
          "name": "#%%\n"
        },
        "id": "dKlTU2-_jdEW",
        "outputId": "8fc16060-f3b6-4539-b5b8-8218e579db27"
      },
      "outputs": [
        {
          "name": "stdout",
          "output_type": "stream",
          "text": [
            "[5, 6, 9, 8, 7, 4, 65, 2, 2, 56, 46, 54]\n"
          ]
        }
      ],
      "source": [
        "lista = [5,6,9,8,7,4,65,2,2,56,46,54]\n",
        "print(lista)"
      ]
    },
    {
      "cell_type": "code",
      "execution_count": null,
      "metadata": {
        "pycharm": {
          "name": "#%%\n"
        },
        "id": "gOC_OxpgjdEX",
        "outputId": "154d9046-c9ed-4dfe-997c-0f3308910b2d"
      },
      "outputs": [
        {
          "data": {
            "text/plain": "True"
          },
          "execution_count": 2,
          "metadata": {},
          "output_type": "execute_result"
        }
      ],
      "source": [
        "2 in lista"
      ]
    },
    {
      "cell_type": "code",
      "execution_count": null,
      "metadata": {
        "pycharm": {
          "name": "#%%\n"
        },
        "id": "kEjQwWR5jdEX",
        "outputId": "8c530230-39fa-4c80-8b25-b408b66cf52b"
      },
      "outputs": [
        {
          "data": {
            "text/plain": "False"
          },
          "execution_count": 3,
          "metadata": {},
          "output_type": "execute_result"
        }
      ],
      "source": [
        "35 in lista"
      ]
    },
    {
      "cell_type": "code",
      "execution_count": null,
      "metadata": {
        "pycharm": {
          "name": "#%%\n"
        },
        "id": "PXLg_HjKjdEX",
        "outputId": "7354fcf4-80c6-4ed6-8837-e1eb6c3d24e3"
      },
      "outputs": [
        {
          "data": {
            "text/plain": "5"
          },
          "execution_count": 4,
          "metadata": {},
          "output_type": "execute_result"
        }
      ],
      "source": [
        "lista[0]"
      ]
    },
    {
      "cell_type": "code",
      "execution_count": null,
      "metadata": {
        "pycharm": {
          "name": "#%%\n"
        },
        "id": "yUSGbMidjdEX",
        "outputId": "bff19647-20a7-497f-fadd-1acd57d39544"
      },
      "outputs": [
        {
          "data": {
            "text/plain": "54"
          },
          "execution_count": 5,
          "metadata": {},
          "output_type": "execute_result"
        }
      ],
      "source": [
        "lista[-1]"
      ]
    },
    {
      "cell_type": "code",
      "execution_count": null,
      "metadata": {
        "pycharm": {
          "name": "#%%\n"
        },
        "id": "fpurXII5jdEX",
        "outputId": "152ddec2-5b08-4923-c876-e80737a8bfb7"
      },
      "outputs": [
        {
          "data": {
            "text/plain": "[9, 8]"
          },
          "execution_count": 6,
          "metadata": {},
          "output_type": "execute_result"
        }
      ],
      "source": [
        "lista[2:4]"
      ]
    },
    {
      "cell_type": "code",
      "execution_count": null,
      "metadata": {
        "pycharm": {
          "name": "#%%\n"
        },
        "id": "W_XNBrLGjdEY",
        "outputId": "07a69ff0-99e4-4431-aae7-afb5f8027067"
      },
      "outputs": [
        {
          "data": {
            "text/plain": "[5, 6, 9, 8, 7]"
          },
          "execution_count": 7,
          "metadata": {},
          "output_type": "execute_result"
        }
      ],
      "source": [
        "lista[:5]"
      ]
    },
    {
      "cell_type": "code",
      "execution_count": null,
      "metadata": {
        "pycharm": {
          "name": "#%%\n"
        },
        "id": "WHTduMw-jdEY",
        "outputId": "1cf33838-f1e5-4589-fe87-cec9038eba8f"
      },
      "outputs": [
        {
          "data": {
            "text/plain": "[7, 4, 65, 2, 2, 56, 46, 54]"
          },
          "execution_count": 8,
          "metadata": {},
          "output_type": "execute_result"
        }
      ],
      "source": [
        "lista[4:]"
      ]
    },
    {
      "cell_type": "code",
      "execution_count": null,
      "metadata": {
        "pycharm": {
          "name": "#%%\n"
        },
        "id": "YiLhVtRqjdEY",
        "outputId": "9c4fcf0c-5815-4817-ad2e-33ed458e8e94"
      },
      "outputs": [
        {
          "data": {
            "text/plain": "[5, 6, 9, 8, 7, 4, 65, 2, 2, 56, 46, 54]"
          },
          "execution_count": 9,
          "metadata": {},
          "output_type": "execute_result"
        }
      ],
      "source": [
        "lista[:]"
      ]
    },
    {
      "cell_type": "code",
      "execution_count": null,
      "metadata": {
        "pycharm": {
          "name": "#%%\n"
        },
        "id": "LmEqnrJvjdEY",
        "outputId": "98ab23f4-b06e-45de-c9e4-fa72b1e26dd0"
      },
      "outputs": [
        {
          "data": {
            "text/plain": "array([1, 2, 3, 4, 5, 6, 7, 8, 9])"
          },
          "execution_count": 10,
          "metadata": {},
          "output_type": "execute_result"
        }
      ],
      "source": [
        "import numpy as np\n",
        "\n",
        "np.arange(1,10)"
      ]
    },
    {
      "cell_type": "code",
      "execution_count": null,
      "metadata": {
        "pycharm": {
          "name": "#%%\n"
        },
        "id": "vBl_9mjWjdEY",
        "outputId": "bd86968b-c932-44a5-d16c-bfa4a42e9cc7"
      },
      "outputs": [
        {
          "data": {
            "text/plain": "array([1, 3, 5, 7, 9])"
          },
          "execution_count": 11,
          "metadata": {},
          "output_type": "execute_result"
        }
      ],
      "source": [
        "np.arange(1,10,2)\n"
      ]
    },
    {
      "cell_type": "code",
      "execution_count": null,
      "metadata": {
        "pycharm": {
          "name": "#%%\n"
        },
        "id": "oVco8b84jdEY",
        "outputId": "3e54f9a4-8e02-42df-96f8-52fb59c5967e"
      },
      "outputs": [
        {
          "data": {
            "text/plain": "array([1, 2, 3, 4])"
          },
          "execution_count": 12,
          "metadata": {},
          "output_type": "execute_result"
        }
      ],
      "source": [
        "a = np.array([1,2,3,4])\n",
        "a"
      ]
    },
    {
      "cell_type": "code",
      "execution_count": null,
      "metadata": {
        "pycharm": {
          "name": "#%%\n"
        },
        "id": "MaJY7okVjdEY",
        "outputId": "6327cd88-4c40-4608-a3e7-ba2adf2d3e57"
      },
      "outputs": [
        {
          "data": {
            "text/plain": "4"
          },
          "execution_count": 13,
          "metadata": {},
          "output_type": "execute_result"
        }
      ],
      "source": [
        "len(a)"
      ]
    },
    {
      "cell_type": "code",
      "execution_count": null,
      "metadata": {
        "pycharm": {
          "name": "#%%\n"
        },
        "id": "r9dZ2I1cjdEY",
        "outputId": "17720c9c-60fd-4ce8-b052-11df51966910"
      },
      "outputs": [
        {
          "data": {
            "text/plain": "1"
          },
          "execution_count": 14,
          "metadata": {},
          "output_type": "execute_result"
        }
      ],
      "source": [
        "min(a)"
      ]
    },
    {
      "cell_type": "code",
      "execution_count": null,
      "metadata": {
        "pycharm": {
          "name": "#%%\n"
        },
        "id": "Lq5iq0wLjdEY",
        "outputId": "630cc9ed-f46b-456d-9ddd-c2c40789e5c6"
      },
      "outputs": [
        {
          "data": {
            "text/plain": "4"
          },
          "execution_count": 15,
          "metadata": {},
          "output_type": "execute_result"
        }
      ],
      "source": [
        "max(a)"
      ]
    },
    {
      "cell_type": "code",
      "execution_count": null,
      "metadata": {
        "pycharm": {
          "name": "#%%\n"
        },
        "id": "9UkmAGMWjdEY",
        "outputId": "b098c8ea-17ce-41ce-d97b-76f5d224f807"
      },
      "outputs": [
        {
          "data": {
            "text/plain": "array([[1, 2, 3],\n       [5, 6, 4],\n       [7, 5, 2]])"
          },
          "execution_count": 16,
          "metadata": {},
          "output_type": "execute_result"
        }
      ],
      "source": [
        "b = np.array([[1,2,3],[5,6,4],[7,5,2]])\n",
        "b"
      ]
    },
    {
      "cell_type": "code",
      "execution_count": null,
      "metadata": {
        "pycharm": {
          "name": "#%%\n"
        },
        "id": "b5esWO-kjdEY",
        "outputId": "ed117451-36b3-4dd4-e0eb-dede62ef34c8"
      },
      "outputs": [
        {
          "data": {
            "text/plain": "array([1, 2, 3])"
          },
          "execution_count": 17,
          "metadata": {},
          "output_type": "execute_result"
        }
      ],
      "source": [
        "b[0]"
      ]
    },
    {
      "cell_type": "code",
      "execution_count": null,
      "metadata": {
        "pycharm": {
          "name": "#%%\n"
        },
        "id": "FAuybA42jdEY",
        "outputId": "69f9fd9d-e165-4657-a569-ec68584e29db"
      },
      "outputs": [
        {
          "data": {
            "text/plain": "array([2, 6, 5])"
          },
          "execution_count": 18,
          "metadata": {},
          "output_type": "execute_result"
        }
      ],
      "source": [
        "b[:,1]"
      ]
    },
    {
      "cell_type": "code",
      "execution_count": null,
      "metadata": {
        "pycharm": {
          "name": "#%%\n"
        },
        "id": "iiin2sSgjdEY",
        "outputId": "381beaae-72cb-4a55-da85-1f51d52c2d4b"
      },
      "outputs": [
        {
          "data": {
            "text/plain": "2"
          },
          "execution_count": 19,
          "metadata": {},
          "output_type": "execute_result"
        }
      ],
      "source": [
        "b[2,2]"
      ]
    },
    {
      "cell_type": "markdown",
      "metadata": {
        "pycharm": {
          "name": "#%% md\n"
        },
        "id": "2bT9d-TajdEY"
      },
      "source": [
        "# Revisar la indexación de matrices (filas columnas)"
      ]
    },
    {
      "cell_type": "code",
      "execution_count": null,
      "metadata": {
        "pycharm": {
          "name": "#%%\n"
        },
        "id": "LjUpamlNjdEZ",
        "outputId": "282447bd-8edd-4aab-a384-49767f7477a8"
      },
      "outputs": [
        {
          "data": {
            "text/plain": "array([[2, 3],\n       [6, 4]])"
          },
          "execution_count": 20,
          "metadata": {},
          "output_type": "execute_result"
        }
      ],
      "source": [
        "b[0:2, 1:3]"
      ]
    },
    {
      "cell_type": "code",
      "execution_count": null,
      "metadata": {
        "pycharm": {
          "name": "#%%\n"
        },
        "id": "cEqER37_jdEZ",
        "outputId": "0ef640ad-a25b-48a2-f593-fac86b98487f"
      },
      "outputs": [
        {
          "data": {
            "text/plain": "array([[0.02226661, 0.23971379, 0.56209789, 0.3569935 , 0.3243083 ],\n       [0.28468744, 0.44605932, 0.90581145, 0.86548222, 0.15974594],\n       [0.12466812, 0.41797103, 0.80643509, 0.38666037, 0.02686694],\n       [0.73865327, 0.00321154, 0.3375429 , 0.68889932, 0.31741889],\n       [0.7320236 , 0.38810283, 0.22330797, 0.15636905, 0.02152751]])"
          },
          "execution_count": 21,
          "metadata": {},
          "output_type": "execute_result"
        }
      ],
      "source": [
        "a = np.random.rand(5,5)\n",
        "a"
      ]
    },
    {
      "cell_type": "code",
      "execution_count": null,
      "metadata": {
        "pycharm": {
          "name": "#%%\n"
        },
        "id": "nC7UPJGhjdEZ",
        "outputId": "6b0ef7bd-2a0d-4e73-cf69-e5f0a81d4e49"
      },
      "outputs": [
        {
          "data": {
            "text/plain": "(5, 5)"
          },
          "execution_count": 22,
          "metadata": {},
          "output_type": "execute_result"
        }
      ],
      "source": [
        "a.shape"
      ]
    },
    {
      "cell_type": "code",
      "execution_count": null,
      "metadata": {
        "pycharm": {
          "name": "#%%\n"
        },
        "id": "NvtLOFIZjdEZ",
        "outputId": "1587960f-fd67-4d6c-833e-82a907ddb209"
      },
      "outputs": [
        {
          "data": {
            "text/plain": "array([[0.10386513, 0.35166832, 0.32788565, 0.07587138, 0.70266894],\n       [0.63187396, 0.84880251, 0.77464611, 0.15685826, 0.02581687],\n       [0.79301534, 0.312659  , 0.72741144, 0.45206623, 0.65771023],\n       [0.93210362, 0.59790338, 0.06891883, 0.19376134, 0.38109064],\n       [0.95501542, 0.17281456, 0.03951609, 0.11678927, 0.58544413]])"
          },
          "execution_count": 23,
          "metadata": {},
          "output_type": "execute_result"
        }
      ],
      "source": [
        "b  = np.random.rand(5,5)\n",
        "b"
      ]
    },
    {
      "cell_type": "code",
      "execution_count": null,
      "metadata": {
        "pycharm": {
          "name": "#%%\n"
        },
        "id": "cQATDEhHjdEZ",
        "outputId": "55f2b992-ac9a-4310-c71d-6ef066a5eda3"
      },
      "outputs": [
        {
          "data": {
            "text/plain": "array([[0.12613174, 0.59138211, 0.88998354, 0.43286488, 1.02697724],\n       [0.9165614 , 1.29486183, 1.68045756, 1.02234048, 0.18556281],\n       [0.91768346, 0.73063002, 1.53384653, 0.8387266 , 0.68457717],\n       [1.67075688, 0.60111492, 0.40646172, 0.88266067, 0.69850953],\n       [1.68703902, 0.5609174 , 0.26282407, 0.27315832, 0.60697164]])"
          },
          "execution_count": 24,
          "metadata": {},
          "output_type": "execute_result"
        }
      ],
      "source": [
        "a + b"
      ]
    },
    {
      "cell_type": "code",
      "execution_count": null,
      "metadata": {
        "pycharm": {
          "name": "#%%\n"
        },
        "id": "MXEH7zi2jdEZ",
        "outputId": "efd89d3b-7e7b-48e7-8a2f-cd2f2d96cea4"
      },
      "outputs": [
        {
          "data": {
            "text/plain": "array([[-0.08159852, -0.11195453,  0.23421224,  0.28112211, -0.37836064],\n       [-0.34718652, -0.40274319,  0.13116534,  0.70862396,  0.13392908],\n       [-0.66834722,  0.10531203,  0.07902365, -0.06540587, -0.6308433 ],\n       [-0.19345035, -0.59469184,  0.26862407,  0.49513798, -0.06367175],\n       [-0.22299182,  0.21528827,  0.18379188,  0.03957978, -0.56391662]])"
          },
          "execution_count": 25,
          "metadata": {},
          "output_type": "execute_result"
        }
      ],
      "source": [
        "a-b"
      ]
    },
    {
      "cell_type": "code",
      "execution_count": null,
      "metadata": {
        "pycharm": {
          "name": "#%%\n"
        },
        "id": "UrwtsArbjdEZ",
        "outputId": "b610ce14-ba0d-4809-9ef2-7407d9abf218"
      },
      "outputs": [
        {
          "data": {
            "text/plain": "array([[0.00231272, 0.08429975, 0.18430383, 0.02708559, 0.22788137],\n       [0.17988658, 0.37861627, 0.70168331, 0.13575804, 0.00412414],\n       [0.09886373, 0.1306824 , 0.58661011, 0.17479609, 0.01767066],\n       [0.68850138, 0.00192019, 0.02326306, 0.13348206, 0.12096537],\n       [0.69909382, 0.06706982, 0.00882426, 0.01826223, 0.01260315]])"
          },
          "execution_count": 26,
          "metadata": {},
          "output_type": "execute_result"
        }
      ],
      "source": [
        "a*b"
      ]
    },
    {
      "cell_type": "code",
      "execution_count": null,
      "metadata": {
        "pycharm": {
          "name": "#%%\n"
        },
        "id": "J22K6j2vjdEZ",
        "outputId": "a75579d2-3120-474f-e5a6-7601e3ca049a"
      },
      "outputs": [
        {
          "data": {
            "text/plain": "array([[2.14380039e-01, 6.81647395e-01, 1.71431073e+00, 4.70524565e+00,\n        4.61537835e-01],\n       [4.50544665e-01, 5.25516025e-01, 1.16932292e+00, 5.51760686e+00,\n        6.18765804e+00],\n       [1.57207697e-01, 1.33682711e+00, 1.10863680e+00, 8.55317958e-01,\n        4.08492023e-02],\n       [7.92458319e-01, 5.37132952e-03, 4.89768783e+00, 3.55540123e+00,\n        8.32922298e-01],\n       [7.66504481e-01, 2.24577617e+00, 5.65106402e+00, 1.33889908e+00,\n        3.67712467e-02]])"
          },
          "execution_count": 27,
          "metadata": {},
          "output_type": "execute_result"
        }
      ],
      "source": [
        "a/b"
      ]
    },
    {
      "cell_type": "code",
      "execution_count": null,
      "metadata": {
        "pycharm": {
          "name": "#%%\n"
        },
        "id": "RDNn6xnTjdEZ",
        "outputId": "1ddecf7e-3dd9-4535-eac4-7b6f589e2f0f"
      },
      "outputs": [
        {
          "data": {
            "text/plain": "array([[0.02226661, 0.28468744, 0.12466812, 0.73865327, 0.7320236 ],\n       [0.23971379, 0.44605932, 0.41797103, 0.00321154, 0.38810283],\n       [0.56209789, 0.90581145, 0.80643509, 0.3375429 , 0.22330797],\n       [0.3569935 , 0.86548222, 0.38666037, 0.68889932, 0.15636905],\n       [0.3243083 , 0.15974594, 0.02686694, 0.31741889, 0.02152751]])"
          },
          "execution_count": 28,
          "metadata": {},
          "output_type": "execute_result"
        }
      ],
      "source": [
        "np.transpose(a)"
      ]
    },
    {
      "cell_type": "code",
      "execution_count": null,
      "metadata": {
        "pycharm": {
          "name": "#%%\n"
        },
        "id": "z6JDWGoOjdEZ",
        "outputId": "a6035a07-493a-431f-c600-5f78fa7fc9e8"
      },
      "outputs": [
        {
          "data": {
            "text/plain": "array([[ 44.91029298,   4.17164145,   1.77904955,   2.80117147,\n          3.08348568],\n       [  3.51262421,   2.24185428,   1.10398251,   1.15542524,\n          6.25993989],\n       [  8.02129715,   2.39251033,   1.24002541,   2.58624905,\n         37.22046727],\n       [  1.35381517, 311.37747715,   2.96258641,   1.45159092,\n          3.1504111 ],\n       [  1.36607618,   2.5766367 ,   4.47812044,   6.3951274 ,\n         46.45218967]])"
          },
          "execution_count": 29,
          "metadata": {},
          "output_type": "execute_result"
        }
      ],
      "source": [
        "1/a"
      ]
    },
    {
      "cell_type": "markdown",
      "source": [
        "## PROBLEMAS"
      ],
      "metadata": {
        "id": "OJuE4JEajeI_"
      }
    },
    {
      "cell_type": "markdown",
      "source": [
        "1. Escribe una función **suma_matrices** que tome dos matrices **NumPy** como argumentos y devuelva una nueva matriz que sea la suma de las dos matrices originales. No utilices la operación de suma incorporada de NumPy (+)."
      ],
      "metadata": {
        "id": "gan8dp57jmqX"
      }
    },
    {
      "cell_type": "code",
      "source": [
        "import numpy as np\n",
        "\n",
        "def suma_matrices(A, B):\n",
        "  # INTRODUCIR EL CÓDIGO DE LA FUNCIÓN AQUÍ\n",
        "  # VALIDA QUE LAS MATRICES DE ENTRADA TIENEN LA MISMA DIMENSIÓN\n",
        "  if A.shape != B.shape:\n",
        "        raise ValueError(\"Las matrices deben tener la misma dimensión para ser sumadas.\")\n",
        "\n",
        "  filas, columnas = A.shape\n",
        "  resultado = np.empty((filas, columnas))\n",
        "\n",
        "  for i in range(filas):\n",
        "      for j in range(columnas):\n",
        "          resultado[i, j] = A[i, j] + B[i, j]\n",
        "\n",
        "  return resultado\n",
        "\n",
        "\n",
        "\n",
        "# Pruebas\n",
        "A = np.array([[1, 2], [3, 4]])\n",
        "B = np.array([[5, 6], [7, 8]])\n",
        "assert np.array_equal(suma_matrices(A, B), np.array([[6, 8], [10, 12]]))"
      ],
      "metadata": {
        "id": "RqVmsQR3jszO"
      },
      "execution_count": 9,
      "outputs": []
    },
    {
      "cell_type": "markdown",
      "source": [
        "2. Escribe una función **transpuesta** que tome una matriz **NumPy** como argumento y **devuelva su transpuesta**. No utilices la propiedad T de NumPy."
      ],
      "metadata": {
        "id": "rbWnPtUjkPh5"
      }
    },
    {
      "cell_type": "code",
      "source": [
        "import numpy as np\n",
        "\n",
        "def transpuesta(A):\n",
        "  # INTRODUCIR EL CÓDIGO DE LA FUNCIÓN AQUÍ\n",
        "  filas, columnas = A.shape\n",
        "\n",
        "  # Crear una matriz vacía para la matriz transpuesta\n",
        "  matriz = np.empty((columnas, filas))\n",
        "\n",
        "  for fila in range(A.shape[0]):\n",
        "        for columna in range(A.shape[1]):\n",
        "            matriz[columna, fila] = A[fila, columna]\n",
        "\n",
        "  return matriz\n",
        "\n",
        "# Pruebas\n",
        "A = np.array([[1, 2, 3], [4, 5, 6]])\n",
        "assert np.array_equal(transpuesta(A), np.array([[1, 4], [2, 5], [3, 6]]))"
      ],
      "metadata": {
        "id": "XE1LFSPmkgyw"
      },
      "execution_count": 7,
      "outputs": []
    },
    {
      "cell_type": "markdown",
      "source": [
        "3. Escribe una función **multiplicar_matrices** que tome dos matrices **NumPy** como argumentos y devuelva una nueva matriz que sea el resultado de la multiplicación de las dos matrices originales. No utilices la operación de multiplicación de matrices incorporada de NumPy (@ o np.dot)."
      ],
      "metadata": {
        "id": "F1HYoqkdkw8K"
      }
    },
    {
      "cell_type": "code",
      "source": [
        "import numpy as np\n",
        "\n",
        "def multiplicar_matrices(A, B):\n",
        "  # INTRODUCIR EL CÓDIGO DE LA FUNCIÓN AQUÍ\n",
        "  # VALIDA QUE LAS MATRICES DE ENTRADA TIENEN LAS DIMENSIONES\n",
        "  # ADECUADAS QUE PERMITEN LA MULTIPLICACIÓN MATRICIAL\n",
        "\n",
        "  if A.shape[1] != B.shape[0]:\n",
        "        raise ValueError(\"Las dimensiones de las matrices no son adecuadas para la multiplicación.\")\n",
        "\n",
        "  filas_A, columnas_A = A.shape\n",
        "  filas_B, columnas_B = B.shape\n",
        "\n",
        "  # Crear una matriz vacía para el resultado\n",
        "  resultado = np.empty((filas_A, columnas_B))\n",
        "\n",
        "  for i in range(filas_A):\n",
        "      for j in range(columnas_B):\n",
        "          suma = 0\n",
        "          for k in range(columnas_A):\n",
        "              suma += A[i, k] * B[k, j]\n",
        "          resultado[i, j] = suma\n",
        "\n",
        "  return resultado\n",
        "\n",
        "# Pruebas\n",
        "A = np.array([[1, 2], [3, 4]])\n",
        "B = np.array([[2, 0], [1, 2]])\n",
        "assert np.array_equal(multiplicar_matrices(A, B), np.array([[4, 4], [10, 8]]))"
      ],
      "metadata": {
        "id": "9-Aa0AHNk6sK"
      },
      "execution_count": 14,
      "outputs": []
    },
    {
      "cell_type": "code",
      "source": [],
      "metadata": {
        "id": "Q09Sxd3oRKbp"
      },
      "execution_count": null,
      "outputs": []
    }
  ],
  "metadata": {
    "kernelspec": {
      "display_name": "Python 3",
      "language": "python",
      "name": "python3"
    },
    "language_info": {
      "codemirror_mode": {
        "name": "ipython",
        "version": 3
      },
      "file_extension": ".py",
      "mimetype": "text/x-python",
      "name": "python",
      "nbconvert_exporter": "python",
      "pygments_lexer": "ipython3",
      "version": "3.6.5"
    },
    "colab": {
      "provenance": [],
      "include_colab_link": true
    }
  },
  "nbformat": 4,
  "nbformat_minor": 0
}