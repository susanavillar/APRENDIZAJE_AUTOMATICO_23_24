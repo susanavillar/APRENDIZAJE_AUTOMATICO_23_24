{
  "nbformat": 4,
  "nbformat_minor": 0,
  "metadata": {
    "kernelspec": {
      "display_name": "Python 3",
      "name": "python3"
    },
    "language_info": {
      "codemirror_mode": {
        "name": "ipython",
        "version": 3
      },
      "file_extension": ".py",
      "mimetype": "text/x-python",
      "name": "python",
      "nbconvert_exporter": "python",
      "pygments_lexer": "ipython3",
      "version": "3.5.2"
    },
    "colab": {
      "name": "3_2_Clasificacion_multiclase_noticias.ipynb",
      "provenance": [],
      "gpuType": "T4",
      "include_colab_link": true
    },
    "accelerator": "GPU"
  },
  "cells": [
    {
      "cell_type": "markdown",
      "metadata": {
        "id": "view-in-github",
        "colab_type": "text"
      },
      "source": [
        "<a href=\"https://colab.research.google.com/github/carlosemiliorabazo/APRENDIZAJE_AUTOMATICO_23_24/blob/main/TEMA%201/3_2_Clasificacion_multiclase_noticias.ipynb\" target=\"_parent\"><img src=\"https://colab.research.google.com/assets/colab-badge.svg\" alt=\"Open In Colab\"/></a>"
      ]
    },
    {
      "cell_type": "code",
      "metadata": {
        "id": "Dmi65Nt7nxld",
        "colab": {
          "base_uri": "https://localhost:8080/",
          "height": 36
        },
        "outputId": "9991fcf3-3303-4259-8fcf-ac3970d4b1ec"
      },
      "source": [
        "import keras\n",
        "keras.__version__"
      ],
      "execution_count": 1,
      "outputs": [
        {
          "output_type": "execute_result",
          "data": {
            "text/plain": [
              "'2.13.1'"
            ],
            "application/vnd.google.colaboratory.intrinsic+json": {
              "type": "string"
            }
          },
          "metadata": {},
          "execution_count": 1
        }
      ]
    },
    {
      "cell_type": "markdown",
      "metadata": {
        "id": "TkrnDKKMnxlg"
      },
      "source": [
        "# Clasificación de noticias: un ejemplo de clasificación multiclase\n",
        "----\n",
        "Ya hemos visto cómo clasificar las entradas vectoriales en dos clases mutuamente excluyentes utilizando una red neuronal densamente conectada.\n",
        "Pero, ¿qué pasa cuando tienes más de dos clases?\n",
        "\n",
        "Ahora crearemos una red para clasificar las noticias de Reuters en **46 temas mutuamente excluyentes**. Como cada noticia debe clasificarse en una sola categoría, es un problema de **\"clasificación multiclase de una sola etiqueta\"**."
      ]
    },
    {
      "cell_type": "markdown",
      "metadata": {
        "id": "Izoyxmwbnxli"
      },
      "source": [
        "## El conjunto de datos de Reuters\n",
        "\n",
        "El Reuters dataset es un conjunto de noticias breves y sus temas, publicado por Reuters en 1986. Son 46 temas diferentes; **algunos temas están más representados que otros**, pero cada uno tiene, al menos, **10 ejemplos en el conjunto** de entrenamiento.\n",
        "\n",
        "Al igual que IMDB y MNIST, el conjunto de datos de Reuters viene **empaquetado como parte de Keras**."
      ]
    },
    {
      "cell_type": "code",
      "metadata": {
        "collapsed": true,
        "id": "9NaMkWBXnxli",
        "colab": {
          "base_uri": "https://localhost:8080/"
        },
        "outputId": "ff4f36b3-0c31-4bde-967f-756bc91fc753"
      },
      "source": [
        "from keras.datasets import reuters\n",
        "\n",
        "(train_data, train_labels), (test_data, test_labels) = reuters.load_data(num_words=10000)"
      ],
      "execution_count": 2,
      "outputs": [
        {
          "output_type": "stream",
          "name": "stdout",
          "text": [
            "Downloading data from https://storage.googleapis.com/tensorflow/tf-keras-datasets/reuters.npz\n",
            "2110848/2110848 [==============================] - 0s 0us/step\n"
          ]
        }
      ]
    },
    {
      "cell_type": "markdown",
      "metadata": {
        "id": "CozwLpAvnxli"
      },
      "source": [
        "Al igual que con el conjunto de datos de IMDB, el argumento `num_words = 10000` restringe los datos a las **10.000 palabras más frecuentes** que se encuentran en los datos.\n",
        "\n",
        "Tenemos 8.982 ejemplos de entrenamiento y 2.246 ejemplos de prueba:"
      ]
    },
    {
      "cell_type": "code",
      "metadata": {
        "id": "0HJcxlr1nxlj",
        "colab": {
          "base_uri": "https://localhost:8080/"
        },
        "outputId": "c26a7fa7-0651-4894-9e22-85476b26d6bd"
      },
      "source": [
        "len(train_data)"
      ],
      "execution_count": 3,
      "outputs": [
        {
          "output_type": "execute_result",
          "data": {
            "text/plain": [
              "8982"
            ]
          },
          "metadata": {},
          "execution_count": 3
        }
      ]
    },
    {
      "cell_type": "code",
      "metadata": {
        "id": "LbKH6-Cpnxlj",
        "colab": {
          "base_uri": "https://localhost:8080/"
        },
        "outputId": "2494c46a-00d0-46cc-d10f-9ec7770f0e66"
      },
      "source": [
        "len(test_data)"
      ],
      "execution_count": 4,
      "outputs": [
        {
          "output_type": "execute_result",
          "data": {
            "text/plain": [
              "2246"
            ]
          },
          "metadata": {},
          "execution_count": 4
        }
      ]
    },
    {
      "cell_type": "markdown",
      "metadata": {
        "id": "rRQ7AWE5nxlk"
      },
      "source": [
        "Al igual que con las críticas de IMDB, cada ejemplo es una lista de números enteros (índices de palabras):"
      ]
    },
    {
      "cell_type": "code",
      "metadata": {
        "id": "x7Sfvxm-nxlk",
        "colab": {
          "base_uri": "https://localhost:8080/"
        },
        "outputId": "fefbb478-8d67-4063-85c5-608c53aefc82"
      },
      "source": [
        "train_data[10]"
      ],
      "execution_count": 5,
      "outputs": [
        {
          "output_type": "execute_result",
          "data": {
            "text/plain": [
              "[1,\n",
              " 245,\n",
              " 273,\n",
              " 207,\n",
              " 156,\n",
              " 53,\n",
              " 74,\n",
              " 160,\n",
              " 26,\n",
              " 14,\n",
              " 46,\n",
              " 296,\n",
              " 26,\n",
              " 39,\n",
              " 74,\n",
              " 2979,\n",
              " 3554,\n",
              " 14,\n",
              " 46,\n",
              " 4689,\n",
              " 4329,\n",
              " 86,\n",
              " 61,\n",
              " 3499,\n",
              " 4795,\n",
              " 14,\n",
              " 61,\n",
              " 451,\n",
              " 4329,\n",
              " 17,\n",
              " 12]"
            ]
          },
          "metadata": {},
          "execution_count": 5
        }
      ]
    },
    {
      "cell_type": "markdown",
      "metadata": {
        "id": "ys_v0Ykknxlk"
      },
      "source": [
        "Así es como podemos decodificarlo para volverlo a convertir en palabras, por si tenéis curiosidad:"
      ]
    },
    {
      "cell_type": "code",
      "metadata": {
        "collapsed": true,
        "id": "B4N2Ygn0nxll",
        "colab": {
          "base_uri": "https://localhost:8080/"
        },
        "outputId": "12dee257-76ff-4bf7-c983-7c61daae4fe7"
      },
      "source": [
        "word_index = reuters.get_word_index()\n",
        "reverse_word_index = dict([(value, key) for (key, value) in word_index.items()])\n",
        "# Los índices están desviados en 3 porque 0, 1 y 2 don índices reservados para\n",
        "# \"relleno\", \"comienzo de secuencia\" y \"desconocido\"\n",
        "decoded_newswire = ' '.join([reverse_word_index.get(i - 3, '?') for i in train_data[0]])"
      ],
      "execution_count": 6,
      "outputs": [
        {
          "output_type": "stream",
          "name": "stdout",
          "text": [
            "Downloading data from https://storage.googleapis.com/tensorflow/tf-keras-datasets/reuters_word_index.json\n",
            "550378/550378 [==============================] - 0s 0us/step\n"
          ]
        }
      ]
    },
    {
      "cell_type": "code",
      "metadata": {
        "id": "wMcRFJbXnxll",
        "colab": {
          "base_uri": "https://localhost:8080/",
          "height": 70
        },
        "outputId": "862274a7-e30f-40e7-90b4-e8e68da54b2c"
      },
      "source": [
        "decoded_newswire"
      ],
      "execution_count": 7,
      "outputs": [
        {
          "output_type": "execute_result",
          "data": {
            "text/plain": [
              "'? ? ? said as a result of its december acquisition of space co it expects earnings per share in 1987 of 1 15 to 1 30 dlrs per share up from 70 cts in 1986 the company said pretax net should rise to nine to 10 mln dlrs from six mln dlrs in 1986 and rental operation revenues to 19 to 22 mln dlrs from 12 5 mln dlrs it said cash flow per share this year should be 2 50 to three dlrs reuter 3'"
            ],
            "application/vnd.google.colaboratory.intrinsic+json": {
              "type": "string"
            }
          },
          "metadata": {},
          "execution_count": 7
        }
      ]
    },
    {
      "cell_type": "markdown",
      "metadata": {
        "id": "9AyXoYH0nxlm"
      },
      "source": [
        "La etiqueta asociada con el ejemplo es un entero entre 0 y 45 (un índice del tema)"
      ]
    },
    {
      "cell_type": "code",
      "metadata": {
        "id": "Oxcy5sxjnxlm",
        "colab": {
          "base_uri": "https://localhost:8080/"
        },
        "outputId": "1fdaebe3-07b4-4ae5-cd36-00bf4448a92d"
      },
      "source": [
        "train_labels[10]"
      ],
      "execution_count": 8,
      "outputs": [
        {
          "output_type": "execute_result",
          "data": {
            "text/plain": [
              "3"
            ]
          },
          "metadata": {},
          "execution_count": 8
        }
      ]
    },
    {
      "cell_type": "markdown",
      "metadata": {
        "id": "DOzhvd6Znxlm"
      },
      "source": [
        "## Preparando los datos\n",
        "\n",
        "Podemor vectorizar los datos con el mismo código que en ejemplo de las críticas de cine."
      ]
    },
    {
      "cell_type": "code",
      "metadata": {
        "collapsed": true,
        "id": "x2ERdKRQnxlm"
      },
      "source": [
        "import numpy as np\n",
        "\n",
        "def vectorize_sequences(sequences, dimension=10000):\n",
        "    results = np.zeros((len(sequences), dimension))\n",
        "    for i, sequence in enumerate(sequences):\n",
        "        results[i, sequence] = 1.\n",
        "    return results\n",
        "\n",
        "# Datos de entrenamiento vectorizados\n",
        "x_train = vectorize_sequences(train_data)\n",
        "# Datos de test vectorizados\n",
        "x_test = vectorize_sequences(test_data)"
      ],
      "execution_count": 9,
      "outputs": []
    },
    {
      "cell_type": "markdown",
      "metadata": {
        "id": "wPom4deInxln"
      },
      "source": [
        "Para vectorizar las etiquetas, hay dos posibilidades\n",
        "1. Podríamos simplemente convertir la lista de etiquetas como un tensor entero\n",
        "2. Podríamos usar un \"one-hot\"codification. La codificación one-hot es un formato ampliamente utilizado para datos categóricos, también llamado \"codificación categórica\".\n",
        "\n",
        "En nuestro caso, la codificación **one-hot** de nuestras etiquetas consiste en incrustar cada etiqueta como un **vector con todo ceros (46), salvo un 1 en el lugar del índice de la etiqueta**:"
      ]
    },
    {
      "cell_type": "code",
      "metadata": {
        "collapsed": true,
        "id": "TH9mRCzInxln",
        "outputId": "acfa23da-ef20-42dd-f10a-acd4f89bf50e",
        "colab": {
          "base_uri": "https://localhost:8080/"
        }
      },
      "source": [
        "def to_one_hot(labels, dimension=46):\n",
        "    results = np.zeros((len(labels), dimension))\n",
        "    for i, label in enumerate(labels):\n",
        "        results[i, label] = 1.\n",
        "    return results\n",
        "\n",
        "# Datos de entrenamiento vectorizados\n",
        "one_hot_train_labels = to_one_hot(train_labels)\n",
        "# Datos de test vectorizados\n",
        "one_hot_test_labels = to_one_hot(test_labels)\n",
        "print(one_hot_test_labels)"
      ],
      "execution_count": 10,
      "outputs": [
        {
          "output_type": "stream",
          "name": "stdout",
          "text": [
            "[[0. 0. 0. ... 0. 0. 0.]\n",
            " [0. 0. 0. ... 0. 0. 0.]\n",
            " [0. 1. 0. ... 0. 0. 0.]\n",
            " ...\n",
            " [0. 0. 0. ... 0. 0. 0.]\n",
            " [0. 0. 0. ... 0. 0. 0.]\n",
            " [0. 0. 0. ... 0. 0. 0.]]\n"
          ]
        }
      ]
    },
    {
      "cell_type": "markdown",
      "metadata": {
        "id": "-FUV8ItHnxln"
      },
      "source": [
        "Tener en cuenta que hay una manera integrada de hacer esto en Keras, que ya hemos visto en nuestro ejemplo de MNIST:"
      ]
    },
    {
      "cell_type": "code",
      "metadata": {
        "collapsed": true,
        "id": "oLUqfGUCnxlo",
        "outputId": "46150063-c917-482e-c195-1bb78e436e71",
        "colab": {
          "base_uri": "https://localhost:8080/"
        }
      },
      "source": [
        "from keras.utils import to_categorical\n",
        "\n",
        "one_hot_train_labels = to_categorical(train_labels)\n",
        "one_hot_test_labels = to_categorical(test_labels)\n",
        "print(one_hot_test_labels)"
      ],
      "execution_count": 12,
      "outputs": [
        {
          "output_type": "stream",
          "name": "stdout",
          "text": [
            "[[0. 0. 0. ... 0. 0. 0.]\n",
            " [0. 0. 0. ... 0. 0. 0.]\n",
            " [0. 1. 0. ... 0. 0. 0.]\n",
            " ...\n",
            " [0. 0. 0. ... 0. 0. 0.]\n",
            " [0. 0. 0. ... 0. 0. 0.]\n",
            " [0. 0. 0. ... 0. 0. 0.]]\n"
          ]
        }
      ]
    },
    {
      "cell_type": "markdown",
      "metadata": {
        "id": "0y7X1miPnxlo"
      },
      "source": [
        "## Crear la red\n",
        "\n",
        "\n",
        "Este problema de clasificación es parecido al anterior de películas solo que con una nueva restricción: el número de clases de salida ha pasado de 2 a 46, es decir, **la dimensionalidad del espacio de salida es mucho mayor**.\n",
        "\n",
        "En una pila de capas `Dense` como la que estábamos usando, **cada capa solo puede acceder a la información presente en la salida de la capa anterior**.\n",
        "**Si una capa abandona una información relevante para el problema de clasificación, dicha información nunca podrá ser recuperada por capas posteriores**: **cada capa puede, potencialmente, convertirse en un \"cuello de botella\" u obstáculo para la información\"**. En nuestro ejemplo anterior, estábamos usando capas intermedias de 16 dimensiones, pero un espacio de **16 dimensiones puede ser demasiado limitado para aprender a separar 46 clases diferentes**: capas tan pequeñas pueden actuar como cuellos de botella de información, abandonando permanentemente información relevante.\n",
        "\n",
        "Por esta razón usaremos capas más grandes. **Vayamos con 64 unidades**:"
      ]
    },
    {
      "cell_type": "code",
      "metadata": {
        "collapsed": true,
        "id": "9DauD9tcnxlo"
      },
      "source": [
        "from keras import models\n",
        "from keras import layers\n",
        "\n",
        "model = models.Sequential()\n",
        "model.add(layers.Dense(64, activation='relu', input_shape=(10000,)))\n",
        "model.add(layers.Dense(64, activation='relu'))\n",
        "model.add(layers.Dense(46, activation='softmax'))"
      ],
      "execution_count": 13,
      "outputs": []
    },
    {
      "cell_type": "markdown",
      "metadata": {
        "id": "yIZfUHTTnxlo"
      },
      "source": [
        "Hay otras dos cosas que debe tener en cuenta sobre esta arquitectura:\n",
        "\n",
        "* Terminamos la red con una capa \"Densa\" de tamaño 46. Para cada muestra de entrada, nuestra red generará un vector de 46 dimensiones. Cada entrada en este vector (cada dimensión) codificará una clase de salida diferente.\n",
        "* La última capa utiliza una activación \"softmax\". Esto significa que la red\n",
        "genera una **distribución de probabilidad** sobre las 46 clases de salida diferentes, es decir, para cada muestra de entrada, la red producirá un\n",
        "vector de salida de 46 dimensiones donde \"salida [i]\" es la probabilidad de que la muestra pertenezca a la clase \"i\". Las 46 puntuaciones sumarán 1.\n",
        "\n",
        "La mejor función de pérdida para usar en este caso es `categorical_crossentropy`. **Mide la distancia entre dos distribuciones de probabilidad**: en nuestro caso, **entre la distribución de probabilidad de salida de nuestra red y la distribución real de las etiquetas**. **Minimizando el distancia entre estas dos distribuciones**, entrenamos nuestra red para generar algo lo más cercano posible a las etiquetas verdaderas."
      ]
    },
    {
      "cell_type": "code",
      "metadata": {
        "collapsed": true,
        "id": "H58tHWI6nxlp"
      },
      "source": [
        "model.compile(optimizer='rmsprop',\n",
        "              loss='categorical_crossentropy',\n",
        "              metrics=['accuracy'])"
      ],
      "execution_count": 14,
      "outputs": []
    },
    {
      "cell_type": "markdown",
      "metadata": {
        "id": "k_ZvZWM6nxlp"
      },
      "source": [
        "## Validar el enfoque:\n",
        "\n",
        "Vamos a separar 1.000 muestras en los datos de entrenamiento para utilizarlas como conjunto de validación :"
      ]
    },
    {
      "cell_type": "code",
      "metadata": {
        "collapsed": true,
        "id": "8C9_lrCUnxlp"
      },
      "source": [
        "x_val = x_train[:1000]\n",
        "partial_x_train = x_train[1000:]\n",
        "\n",
        "y_val = one_hot_train_labels[:1000]\n",
        "partial_y_train = one_hot_train_labels[1000:]"
      ],
      "execution_count": 15,
      "outputs": []
    },
    {
      "cell_type": "markdown",
      "metadata": {
        "id": "H_sWy-GOnxlp"
      },
      "source": [
        "Ahora entrenamos nuestra red con 20 épocas:"
      ]
    },
    {
      "cell_type": "code",
      "metadata": {
        "id": "0nmfVLisnxlq",
        "colab": {
          "base_uri": "https://localhost:8080/"
        },
        "outputId": "e8187a2e-a6ef-4a18-9a9a-b74b6c809f0c"
      },
      "source": [
        "history = model.fit(partial_x_train,\n",
        "                    partial_y_train,\n",
        "                    epochs=20,\n",
        "                    batch_size=512,\n",
        "                    validation_data=(x_val, y_val))"
      ],
      "execution_count": 16,
      "outputs": [
        {
          "output_type": "stream",
          "name": "stdout",
          "text": [
            "Epoch 1/20\n",
            "16/16 [==============================] - 7s 39ms/step - loss: 2.7508 - accuracy: 0.4868 - val_loss: 1.8540 - val_accuracy: 0.6320\n",
            "Epoch 2/20\n",
            "16/16 [==============================] - 0s 18ms/step - loss: 1.5586 - accuracy: 0.6832 - val_loss: 1.3790 - val_accuracy: 0.6870\n",
            "Epoch 3/20\n",
            "16/16 [==============================] - 0s 21ms/step - loss: 1.1901 - accuracy: 0.7418 - val_loss: 1.2050 - val_accuracy: 0.7240\n",
            "Epoch 4/20\n",
            "16/16 [==============================] - 0s 20ms/step - loss: 0.9776 - accuracy: 0.7875 - val_loss: 1.0820 - val_accuracy: 0.7630\n",
            "Epoch 5/20\n",
            "16/16 [==============================] - 0s 19ms/step - loss: 0.8167 - accuracy: 0.8260 - val_loss: 1.0028 - val_accuracy: 0.7920\n",
            "Epoch 6/20\n",
            "16/16 [==============================] - 0s 19ms/step - loss: 0.6836 - accuracy: 0.8520 - val_loss: 0.9887 - val_accuracy: 0.7860\n",
            "Epoch 7/20\n",
            "16/16 [==============================] - 0s 18ms/step - loss: 0.5845 - accuracy: 0.8698 - val_loss: 0.9135 - val_accuracy: 0.8110\n",
            "Epoch 8/20\n",
            "16/16 [==============================] - 0s 17ms/step - loss: 0.4886 - accuracy: 0.8963 - val_loss: 0.8947 - val_accuracy: 0.8170\n",
            "Epoch 9/20\n",
            "16/16 [==============================] - 0s 17ms/step - loss: 0.4154 - accuracy: 0.9128 - val_loss: 0.8992 - val_accuracy: 0.8170\n",
            "Epoch 10/20\n",
            "16/16 [==============================] - 0s 18ms/step - loss: 0.3552 - accuracy: 0.9236 - val_loss: 0.8805 - val_accuracy: 0.8240\n",
            "Epoch 11/20\n",
            "16/16 [==============================] - 0s 18ms/step - loss: 0.3090 - accuracy: 0.9334 - val_loss: 0.8887 - val_accuracy: 0.8160\n",
            "Epoch 12/20\n",
            "16/16 [==============================] - 0s 19ms/step - loss: 0.2671 - accuracy: 0.9409 - val_loss: 0.9181 - val_accuracy: 0.8070\n",
            "Epoch 13/20\n",
            "16/16 [==============================] - 0s 23ms/step - loss: 0.2446 - accuracy: 0.9422 - val_loss: 0.8785 - val_accuracy: 0.8230\n",
            "Epoch 14/20\n",
            "16/16 [==============================] - 0s 24ms/step - loss: 0.2123 - accuracy: 0.9498 - val_loss: 0.9330 - val_accuracy: 0.8110\n",
            "Epoch 15/20\n",
            "16/16 [==============================] - 0s 22ms/step - loss: 0.1939 - accuracy: 0.9503 - val_loss: 0.9395 - val_accuracy: 0.8110\n",
            "Epoch 16/20\n",
            "16/16 [==============================] - 0s 25ms/step - loss: 0.1774 - accuracy: 0.9523 - val_loss: 0.9295 - val_accuracy: 0.8190\n",
            "Epoch 17/20\n",
            "16/16 [==============================] - 0s 22ms/step - loss: 0.1617 - accuracy: 0.9545 - val_loss: 0.9257 - val_accuracy: 0.8190\n",
            "Epoch 18/20\n",
            "16/16 [==============================] - 0s 25ms/step - loss: 0.1550 - accuracy: 0.9535 - val_loss: 0.9432 - val_accuracy: 0.8180\n",
            "Epoch 19/20\n",
            "16/16 [==============================] - 0s 20ms/step - loss: 0.1449 - accuracy: 0.9568 - val_loss: 0.9445 - val_accuracy: 0.8130\n",
            "Epoch 20/20\n",
            "16/16 [==============================] - 0s 16ms/step - loss: 0.1379 - accuracy: 0.9549 - val_loss: 0.9827 - val_accuracy: 0.8140\n"
          ]
        }
      ]
    },
    {
      "cell_type": "markdown",
      "metadata": {
        "id": "xtxo4WFmnxlq"
      },
      "source": [
        "Vamos a ver las curvas de pérdida y precisión:"
      ]
    },
    {
      "cell_type": "code",
      "metadata": {
        "id": "PkGCFJ1-nxlq",
        "colab": {
          "base_uri": "https://localhost:8080/",
          "height": 474
        },
        "outputId": "ecfbe1f6-61db-472f-9e26-8d9fabde4c5e"
      },
      "source": [
        "import matplotlib.pyplot as plt\n",
        "\n",
        "loss = history.history['loss']\n",
        "val_loss = history.history['val_loss']\n",
        "\n",
        "epochs = range(1, len(loss) + 1)\n",
        "\n",
        "plt.plot(epochs, loss, 'bo', label='Pérdida del entreno')\n",
        "plt.plot(epochs, val_loss, 'b', label='Pérdida de la validación')\n",
        "plt.title('Perdidas del entreno y la validación')\n",
        "plt.xlabel('Épocas')\n",
        "plt.ylabel('Pérdida')\n",
        "plt.legend()\n",
        "\n",
        "plt.show()"
      ],
      "execution_count": 17,
      "outputs": [
        {
          "output_type": "display_data",
          "data": {
            "text/plain": [
              "<Figure size 640x480 with 1 Axes>"
            ],
            "image/png": "[encoded data removed]"
          },
          "metadata": {}
        }
      ]
    },
    {
      "cell_type": "code",
      "metadata": {
        "id": "P3dcRt8inxlq",
        "colab": {
          "base_uri": "https://localhost:8080/",
          "height": 297
        },
        "outputId": "fdaf59b8-7dc2-49c2-d634-76273264640d"
      },
      "source": [
        "plt.clf()   # Limpiamos el gráfico\n",
        "\n",
        "acc = history.history['accuracy']\n",
        "val_acc = history.history['val_accuracy']\n",
        "\n",
        "plt.plot(epochs, acc, 'bo', label='Precisión de entrenamiento')\n",
        "plt.plot(epochs, val_acc, 'b', label='Precisión de validación')\n",
        "plt.title('Precisión de entreno y validación')\n",
        "plt.xlabel('Épocas')\n",
        "plt.ylabel('Precisión')\n",
        "plt.legend()\n",
        "\n",
        "plt.show()"
      ],
      "execution_count": null,
      "outputs": [
        {
          "output_type": "display_data",
          "data": {
            "image/png": "[encoded data removed]",
            "text/plain": [
              "<Figure size 432x288 with 1 Axes>"
            ]
          },
          "metadata": {
            "needs_background": "light"
          }
        }
      ]
    },
    {
      "cell_type": "markdown",
      "metadata": {
        "id": "GPrPZk-xnxlr"
      },
      "source": [
        "Parece que la red comienza a sobreajustarse después de 10 repeticiones (épocas). Entrenemos una nueva red desde cero durante 10 épocas, luego evaluémosla con el conjunto de prueba:"
      ]
    },
    {
      "cell_type": "code",
      "metadata": {
        "id": "mGO6girWnxlr",
        "colab": {
          "base_uri": "https://localhost:8080/"
        },
        "outputId": "0cd31eef-1298-4f0e-d645-7f57a1853b6f"
      },
      "source": [
        "model = models.Sequential()\n",
        "model.add(layers.Dense(64, activation='relu', input_shape=(10000,)))\n",
        "model.add(layers.Dense(64, activation='relu'))\n",
        "model.add(layers.Dense(46, activation='softmax'))\n",
        "\n",
        "model.compile(optimizer='rmsprop',\n",
        "              loss='categorical_crossentropy',\n",
        "              metrics=['accuracy'])\n",
        "# Entreno con todos los datos durante 10 épocas\n",
        "model.fit(x_train,\n",
        "          one_hot_train_labels,\n",
        "          epochs=10,\n",
        "          batch_size=512)\n",
        "results = model.evaluate(x_test, one_hot_test_labels)"
      ],
      "execution_count": 20,
      "outputs": [
        {
          "output_type": "stream",
          "name": "stdout",
          "text": [
            "Epoch 1/10\n",
            "18/18 [==============================] - 1s 13ms/step - loss: 2.5257 - accuracy: 0.5229\n",
            "Epoch 2/10\n",
            "18/18 [==============================] - 0s 13ms/step - loss: 1.4262 - accuracy: 0.6994\n",
            "Epoch 3/10\n",
            "18/18 [==============================] - 0s 14ms/step - loss: 1.1082 - accuracy: 0.7623\n",
            "Epoch 4/10\n",
            "18/18 [==============================] - 0s 15ms/step - loss: 0.9061 - accuracy: 0.8019\n",
            "Epoch 5/10\n",
            "18/18 [==============================] - 0s 14ms/step - loss: 0.7453 - accuracy: 0.8360\n",
            "Epoch 6/10\n",
            "18/18 [==============================] - 0s 13ms/step - loss: 0.6149 - accuracy: 0.8686\n",
            "Epoch 7/10\n",
            "18/18 [==============================] - 0s 16ms/step - loss: 0.5069 - accuracy: 0.8948\n",
            "Epoch 8/10\n",
            "18/18 [==============================] - 0s 13ms/step - loss: 0.4252 - accuracy: 0.9087\n",
            "Epoch 9/10\n",
            "18/18 [==============================] - 0s 15ms/step - loss: 0.3557 - accuracy: 0.9240\n",
            "Epoch 10/10\n",
            "18/18 [==============================] - 0s 12ms/step - loss: 0.3078 - accuracy: 0.9326\n",
            "71/71 [==============================] - 0s 3ms/step - loss: 0.9176 - accuracy: 0.7947\n"
          ]
        }
      ]
    },
    {
      "cell_type": "code",
      "metadata": {
        "id": "1EG6Oap7nxls",
        "colab": {
          "base_uri": "https://localhost:8080/"
        },
        "outputId": "248ccf00-8386-41b3-a175-ca8c61617cf0"
      },
      "source": [
        "results"
      ],
      "execution_count": 19,
      "outputs": [
        {
          "output_type": "execute_result",
          "data": {
            "text/plain": [
              "[0.9692694544792175, 0.7804986834526062]"
            ]
          },
          "metadata": {},
          "execution_count": 19
        }
      ]
    },
    {
      "cell_type": "markdown",
      "metadata": {
        "id": "RiPAYJiwnxls"
      },
      "source": [
        "Este enfoque alcanza una precisión de ~ 78%. **Con un problema de clasificación binaria equilibrada, la precisión alcanzada por un clasificador puramente aleatorio sería del 50%**, pero en **nuestro caso** está más **cerca del 19%**, por lo que nuestros **resultados parecen bastante buenos**, al menos **en comparación con una línea de base aleatoria**:"
      ]
    },
    {
      "cell_type": "code",
      "metadata": {
        "id": "LFolLeyfnxls",
        "colab": {
          "base_uri": "https://localhost:8080/"
        },
        "outputId": "926b5d36-ab61-4d90-fe04-59a76ab9d69e"
      },
      "source": [
        "import copy\n",
        "\n",
        "test_labels_copy = copy.copy(test_labels)\n",
        "np.random.shuffle(test_labels_copy)\n",
        "float(np.sum(np.array(test_labels) == np.array(test_labels_copy))) / len(test_labels)"
      ],
      "execution_count": 21,
      "outputs": [
        {
          "output_type": "execute_result",
          "data": {
            "text/plain": [
              "0.19857524487978628"
            ]
          },
          "metadata": {},
          "execution_count": 21
        }
      ]
    },
    {
      "cell_type": "markdown",
      "metadata": {
        "id": "0riNA9vQnxlt"
      },
      "source": [
        "## Generar predicciones en datos nuevos\n",
        "\n",
        "Podemos verificar que el método `predict` de nuestra instancia del modelo devuelve una distribución de probabilidad sobre los 46 temas. Generemos tema\n",
        "predicciones para todos los datos de prueba:"
      ]
    },
    {
      "cell_type": "code",
      "metadata": {
        "collapsed": true,
        "id": "gOZrZvFmnxlt",
        "outputId": "2ac25a1f-76cb-4f3e-df09-8df12a259d92",
        "colab": {
          "base_uri": "https://localhost:8080/"
        }
      },
      "source": [
        "predictions = model.predict(x_test)"
      ],
      "execution_count": 22,
      "outputs": [
        {
          "output_type": "stream",
          "name": "stdout",
          "text": [
            "71/71 [==============================] - 0s 2ms/step\n"
          ]
        }
      ]
    },
    {
      "cell_type": "markdown",
      "metadata": {
        "id": "1bL0CtdInxlt"
      },
      "source": [
        "Cada entrada en `predictions` es un vector de longitud 46:"
      ]
    },
    {
      "cell_type": "code",
      "metadata": {
        "id": "tdlqjT_Mnxlt",
        "colab": {
          "base_uri": "https://localhost:8080/"
        },
        "outputId": "3d0d83e5-2823-4116-d3f0-4cae095c67e2"
      },
      "source": [
        "predictions[0].shape"
      ],
      "execution_count": 23,
      "outputs": [
        {
          "output_type": "execute_result",
          "data": {
            "text/plain": [
              "(46,)"
            ]
          },
          "metadata": {},
          "execution_count": 23
        }
      ]
    },
    {
      "cell_type": "markdown",
      "metadata": {
        "id": "x3nDGb7lnxlt"
      },
      "source": [
        "Los coeficientes en este vector suman 1:"
      ]
    },
    {
      "cell_type": "code",
      "metadata": {
        "id": "ha0GKlU7nxlu",
        "colab": {
          "base_uri": "https://localhost:8080/"
        },
        "outputId": "75d566db-ffb9-4cc4-e191-b3aa422775c8"
      },
      "source": [
        "np.sum(predictions[0])"
      ],
      "execution_count": 24,
      "outputs": [
        {
          "output_type": "execute_result",
          "data": {
            "text/plain": [
              "1.0"
            ]
          },
          "metadata": {},
          "execution_count": 24
        }
      ]
    },
    {
      "cell_type": "markdown",
      "metadata": {
        "id": "zF6lPgbJnxlu"
      },
      "source": [
        "La mayor entrada es la clase predicha, es decir, la clase con la probabilidad más elevada:"
      ]
    },
    {
      "cell_type": "code",
      "metadata": {
        "id": "FkZyZdwdnxlu",
        "colab": {
          "base_uri": "https://localhost:8080/"
        },
        "outputId": "77a94443-2d8a-4729-f940-d0474e433cd9"
      },
      "source": [
        "np.argmax(predictions[0])"
      ],
      "execution_count": 25,
      "outputs": [
        {
          "output_type": "execute_result",
          "data": {
            "text/plain": [
              "3"
            ]
          },
          "metadata": {},
          "execution_count": 25
        }
      ]
    },
    {
      "cell_type": "markdown",
      "metadata": {
        "id": "y7EzvpvYnxlu"
      },
      "source": [
        "## Una forma diferente de manejar las etiquetas y la pérdida\n",
        "\n",
        "Mencionamos anteriormente que otra forma de codificar las etiquetas sería convertirlas en un tensor entero, como tal:"
      ]
    },
    {
      "cell_type": "code",
      "metadata": {
        "collapsed": true,
        "id": "oSa9FT4qnxlv",
        "outputId": "1a5ee2f9-8624-4fb1-d413-ebf4830e9223",
        "colab": {
          "base_uri": "https://localhost:8080/"
        }
      },
      "source": [
        "y_train = np.array(train_labels)\n",
        "y_test = np.array(test_labels)\n",
        "print(test_labels)"
      ],
      "execution_count": 26,
      "outputs": [
        {
          "output_type": "stream",
          "name": "stdout",
          "text": [
            "[ 3 10  1 ...  3  3 24]\n"
          ]
        }
      ]
    },
    {
      "cell_type": "markdown",
      "metadata": {
        "id": "-JSB82gnnxlv"
      },
      "source": [
        "Lo único que cambiaría es la **elección de la función de pérdida**. Nuestra pérdida anterior, `categorical_crossentropy`, espera que las etiquetas sigan una codificación categórica. Con etiquetas enteras, deberíamos usar `sparse_categorical_crossentropy`:"
      ]
    },
    {
      "cell_type": "code",
      "metadata": {
        "collapsed": true,
        "id": "j13JZMBInxlv"
      },
      "source": [
        "model.compile(optimizer='rmsprop', loss='sparse_categorical_crossentropy', metrics=['acc'])"
      ],
      "execution_count": 27,
      "outputs": []
    },
    {
      "cell_type": "markdown",
      "metadata": {
        "id": "eY3c2X5Tnxlv"
      },
      "source": [
        "Esta **nueva función de pérdida sigue siendo matemáticamente la misma** que `categorical_crossentropy`; simplemente tiene una **interfaz diferente**."
      ]
    },
    {
      "cell_type": "markdown",
      "metadata": {
        "id": "k5OWwHpEnxlv"
      },
      "source": [
        "## Lo importante de tener capas intermedias lo bastante grandes:\n",
        "\n",
        "Mencionamos anteriormente que dado que nuestras **salidas finales eran de 46 dimensiones**, **deberíamos evitar capas intermedias con mucho menos de 46 unidades ocultas**. Ahora intentemos ver **qué sucede cuando introducimos un cuello de botella de información** al tener capas intermedias significativamente menores que\n",
        "46 dimensiones, p. Ej. 4 dimensiones."
      ]
    },
    {
      "cell_type": "code",
      "metadata": {
        "id": "MfIYddxPnxlw",
        "colab": {
          "base_uri": "https://localhost:8080/"
        },
        "outputId": "08b385c7-561d-4f5d-f7a0-786712ea5dfe"
      },
      "source": [
        "model = models.Sequential()\n",
        "model.add(layers.Dense(64, activation='relu', input_shape=(10000,)))\n",
        "model.add(layers.Dense(4, activation='relu'))\n",
        "model.add(layers.Dense(46, activation='softmax'))\n",
        "\n",
        "model.compile(optimizer='rmsprop',\n",
        "              loss='categorical_crossentropy',\n",
        "              metrics=['accuracy'])\n",
        "model.fit(partial_x_train,\n",
        "          partial_y_train,\n",
        "          epochs=20,\n",
        "          batch_size=128,\n",
        "          validation_data=(x_val, y_val))"
      ],
      "execution_count": 28,
      "outputs": [
        {
          "output_type": "stream",
          "name": "stdout",
          "text": [
            "Epoch 1/20\n",
            "63/63 [==============================] - 2s 10ms/step - loss: 2.6130 - accuracy: 0.5293 - val_loss: 1.8224 - val_accuracy: 0.6010\n",
            "Epoch 2/20\n",
            "63/63 [==============================] - 0s 6ms/step - loss: 1.5899 - accuracy: 0.6565 - val_loss: 1.4700 - val_accuracy: 0.6590\n",
            "Epoch 3/20\n",
            "63/63 [==============================] - 0s 7ms/step - loss: 1.2989 - accuracy: 0.6924 - val_loss: 1.3554 - val_accuracy: 0.6850\n",
            "Epoch 4/20\n",
            "63/63 [==============================] - 0s 7ms/step - loss: 1.1400 - accuracy: 0.7260 - val_loss: 1.3612 - val_accuracy: 0.6960\n",
            "Epoch 5/20\n",
            "63/63 [==============================] - 0s 7ms/step - loss: 1.0326 - accuracy: 0.7403 - val_loss: 1.2783 - val_accuracy: 0.7000\n",
            "Epoch 6/20\n",
            "63/63 [==============================] - 0s 7ms/step - loss: 0.9554 - accuracy: 0.7506 - val_loss: 1.2869 - val_accuracy: 0.6990\n",
            "Epoch 7/20\n",
            "63/63 [==============================] - 0s 6ms/step - loss: 0.8891 - accuracy: 0.7637 - val_loss: 1.2632 - val_accuracy: 0.7000\n",
            "Epoch 8/20\n",
            "63/63 [==============================] - 0s 7ms/step - loss: 0.8306 - accuracy: 0.7776 - val_loss: 1.3164 - val_accuracy: 0.6940\n",
            "Epoch 9/20\n",
            "63/63 [==============================] - 0s 6ms/step - loss: 0.7818 - accuracy: 0.7859 - val_loss: 1.2814 - val_accuracy: 0.7040\n",
            "Epoch 10/20\n",
            "63/63 [==============================] - 0s 6ms/step - loss: 0.7374 - accuracy: 0.7920 - val_loss: 1.3124 - val_accuracy: 0.7080\n",
            "Epoch 11/20\n",
            "63/63 [==============================] - 0s 7ms/step - loss: 0.6990 - accuracy: 0.7994 - val_loss: 1.3428 - val_accuracy: 0.7120\n",
            "Epoch 12/20\n",
            "63/63 [==============================] - 0s 6ms/step - loss: 0.6625 - accuracy: 0.8096 - val_loss: 1.3568 - val_accuracy: 0.7160\n",
            "Epoch 13/20\n",
            "63/63 [==============================] - 0s 6ms/step - loss: 0.6307 - accuracy: 0.8161 - val_loss: 1.3808 - val_accuracy: 0.7150\n",
            "Epoch 14/20\n",
            "63/63 [==============================] - 0s 7ms/step - loss: 0.6006 - accuracy: 0.8251 - val_loss: 1.3918 - val_accuracy: 0.7140\n",
            "Epoch 15/20\n",
            "63/63 [==============================] - 0s 6ms/step - loss: 0.5719 - accuracy: 0.8334 - val_loss: 1.4440 - val_accuracy: 0.7170\n",
            "Epoch 16/20\n",
            "63/63 [==============================] - 0s 7ms/step - loss: 0.5476 - accuracy: 0.8433 - val_loss: 1.4509 - val_accuracy: 0.7110\n",
            "Epoch 17/20\n",
            "63/63 [==============================] - 0s 7ms/step - loss: 0.5233 - accuracy: 0.8497 - val_loss: 1.5136 - val_accuracy: 0.7060\n",
            "Epoch 18/20\n",
            "63/63 [==============================] - 1s 8ms/step - loss: 0.5048 - accuracy: 0.8544 - val_loss: 1.5353 - val_accuracy: 0.7080\n",
            "Epoch 19/20\n",
            "63/63 [==============================] - 1s 8ms/step - loss: 0.4868 - accuracy: 0.8604 - val_loss: 1.5511 - val_accuracy: 0.7030\n",
            "Epoch 20/20\n",
            "63/63 [==============================] - 1s 8ms/step - loss: 0.4646 - accuracy: 0.8670 - val_loss: 1.6480 - val_accuracy: 0.7120\n"
          ]
        },
        {
          "output_type": "execute_result",
          "data": {
            "text/plain": [
              "<keras.src.callbacks.History at 0x7f3fdba153f0>"
            ]
          },
          "metadata": {},
          "execution_count": 28
        }
      ]
    },
    {
      "cell_type": "markdown",
      "metadata": {
        "id": "yEHDBm4Dnxlw"
      },
      "source": [
        "Ahora la red llega aproximadamente al 71% de exactitud de la validación, **una caída absoluta del 8%**. Esta caída se debe principalmente al hecho de que ahora **estamos tratando de comprimir mucha información (información suficiente para recuperar los hiperplanos de separación de 46 clases) en un espacio intermedio de muy pocas dimensiones**. La red es **capaz de meter la mayor parte de la información necesaria en estas representaciones de 4 dimensiones, pero no toda**."
      ]
    },
    {
      "cell_type": "markdown",
      "metadata": {
        "id": "DAITmJA4nxlw"
      },
      "source": [
        "## Más experimentos\n",
        "\n",
        "* Intenta usar capas más grandes o más pequeñas: 32 unidades, 128 unidades ...\n",
        "* Estábamos usando dos capas ocultas. Ahora intenta crear una sola capa oculta o tres capas ocultas."
      ]
    },
    {
      "cell_type": "markdown",
      "metadata": {
        "id": "f3RF6XMlnxlx"
      },
      "source": [
        "## Resumen\n",
        "\n",
        "Esto es lo que debéis sacar de este ejemplo:\n",
        "\n",
        "* Si estáis **intentando clasificar puntos de datos entre N clases, vuestra red debería terminar con una capa `Dense` de tamaño N**.\n",
        "* En un problema de **clasificación de una sola etiqueta asignada y varias clases**, la red debe **terminar con una activación tipo \"softmax\"**, de modo que genere un distribución de probabilidad sobre las N clases de salida.\n",
        "* **`categorical_crossentropy` es casi siempre la función de pérdida que debe usar para estos problemas**. Minimiza la distancia entre las distribuciones de probabilidad producidas por la red y la verdadera distribución de los objetivos.\n",
        "* Hay **dos formas de manejar etiquetas en clasificación multiclase**:\n",
        "  - Codificar las etiquetas a través de \"codificación categórica\" ​​(también conocida como **\"codificación one-hot\"**) y **usar `categorical_crossentropy` como su función de pérdida**.\n",
        "  - Codificando las **etiquetas como números enteros** y usando la **función de pérdida `sparse_categorical_crossentropy`**.\n",
        "* Si necesitamos **clasificar datos en una gran cantidad de categorías**, debemos **evitar crear cuellos de botella de información** en la red al tener capas intermedias que son demasiado pequeñas."
      ]
    },
    {
      "cell_type": "markdown",
      "metadata": {
        "id": "-F0O6iSjQHWq"
      },
      "source": [
        "---"
      ]
    }
  ]
}