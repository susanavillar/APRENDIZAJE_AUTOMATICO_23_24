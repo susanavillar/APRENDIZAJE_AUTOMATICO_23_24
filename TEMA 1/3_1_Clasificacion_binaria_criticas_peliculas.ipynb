{
  "nbformat": 4,
  "nbformat_minor": 0,
  "metadata": {
    "colab": {
      "name": "3_1_Clasificacion_binaria_criticas_peliculas.ipynb",
      "provenance": [],
      "collapsed_sections": [],
      "include_colab_link": true
    },
    "kernelspec": {
      "name": "python3",
      "display_name": "Python 3"
    },
    "language_info": {
      "name": "python"
    },
    "accelerator": "GPU"
  },
  "cells": [
    {
      "cell_type": "markdown",
      "metadata": {
        "id": "view-in-github",
        "colab_type": "text"
      },
      "source": [
        "<a href=\"https://colab.research.google.com/github/carlosemiliorabazo/deepLearning/blob/master/3_1_Clasificacion_binaria_criticas_peliculas.ipynb\" target=\"_parent\"><img src=\"https://colab.research.google.com/assets/colab-badge.svg\" alt=\"Open In Colab\"/></a>"
      ]
    },
    {
      "cell_type": "markdown",
      "metadata": {
        "id": "tW9udvEn1CMY"
      },
      "source": [
        "## Clasificar Críticas de Películas: Ejemplo de Clasificación Binaria"
      ]
    },
    {
      "cell_type": "markdown",
      "metadata": {
        "id": "lJVNsQo71MO1"
      },
      "source": [
        "- **Clasificación Binaria**: Problema de Machine Learning más común\n",
        "- **IMDB**: Internet Movie Data Base: **50K críticas** muy polarizadas (25K entrenamiento y 25K test) (50% Positivas = 1, 50% Negativas =0)\n",
        "- Nunca probar un modelo con los mismos datos que hemos usado para entrenarlo. Nos interesa el **rendimiento con datos nuevos**\n",
        "- IMDB está incluida en Keras\n",
        "- Textos de críticas ya **procesadas** (cada palabra es un dígito de un diccionario de 10K palabras)\n",
        "- Con ``num_words=10000`` solo mantiene las 10K palabras que más aparecen en los datos de entrenamiento. Se **descartan las palabras raras**. Tamaño manejable"
      ]
    },
    {
      "cell_type": "code",
      "metadata": {
        "colab": {
          "base_uri": "https://localhost:8080/"
        },
        "id": "UGMOaDb5bIq4",
        "outputId": "582efba8-2a2c-47d5-e53b-dd7d1d8fe775"
      },
      "source": [
        "from keras.datasets import imdb\n",
        "\n",
        "(train_data, train_labels), (test_data, test_labels) = imdb.load_data(num_words=10000)"
      ],
      "execution_count": 1,
      "outputs": [
        {
          "output_type": "stream",
          "name": "stdout",
          "text": [
            "Downloading data from https://storage.googleapis.com/tensorflow/tf-keras-datasets/imdb.npz\n",
            "17465344/17464789 [==============================] - 1s 0us/step\n",
            "17473536/17464789 [==============================] - 1s 0us/step\n"
          ]
        }
      ]
    },
    {
      "cell_type": "code",
      "metadata": {
        "colab": {
          "base_uri": "https://localhost:8080/"
        },
        "id": "HXljtSIgknjQ",
        "outputId": "503e8889-a6dc-4dee-90bb-cd6bcc308e78"
      },
      "source": [
        "train_data[0] # Crítica codificada (sin palabras poco usadas) (Reflexión sobre esto)"
      ],
      "execution_count": 2,
      "outputs": [
        {
          "output_type": "execute_result",
          "data": {
            "text/plain": [
              "[1,\n",
              " 14,\n",
              " 22,\n",
              " 16,\n",
              " 43,\n",
              " 530,\n",
              " 973,\n",
              " 1622,\n",
              " 1385,\n",
              " 65,\n",
              " 458,\n",
              " 4468,\n",
              " 66,\n",
              " 3941,\n",
              " 4,\n",
              " 173,\n",
              " 36,\n",
              " 256,\n",
              " 5,\n",
              " 25,\n",
              " 100,\n",
              " 43,\n",
              " 838,\n",
              " 112,\n",
              " 50,\n",
              " 670,\n",
              " 2,\n",
              " 9,\n",
              " 35,\n",
              " 480,\n",
              " 284,\n",
              " 5,\n",
              " 150,\n",
              " 4,\n",
              " 172,\n",
              " 112,\n",
              " 167,\n",
              " 2,\n",
              " 336,\n",
              " 385,\n",
              " 39,\n",
              " 4,\n",
              " 172,\n",
              " 4536,\n",
              " 1111,\n",
              " 17,\n",
              " 546,\n",
              " 38,\n",
              " 13,\n",
              " 447,\n",
              " 4,\n",
              " 192,\n",
              " 50,\n",
              " 16,\n",
              " 6,\n",
              " 147,\n",
              " 2025,\n",
              " 19,\n",
              " 14,\n",
              " 22,\n",
              " 4,\n",
              " 1920,\n",
              " 4613,\n",
              " 469,\n",
              " 4,\n",
              " 22,\n",
              " 71,\n",
              " 87,\n",
              " 12,\n",
              " 16,\n",
              " 43,\n",
              " 530,\n",
              " 38,\n",
              " 76,\n",
              " 15,\n",
              " 13,\n",
              " 1247,\n",
              " 4,\n",
              " 22,\n",
              " 17,\n",
              " 515,\n",
              " 17,\n",
              " 12,\n",
              " 16,\n",
              " 626,\n",
              " 18,\n",
              " 2,\n",
              " 5,\n",
              " 62,\n",
              " 386,\n",
              " 12,\n",
              " 8,\n",
              " 316,\n",
              " 8,\n",
              " 106,\n",
              " 5,\n",
              " 4,\n",
              " 2223,\n",
              " 5244,\n",
              " 16,\n",
              " 480,\n",
              " 66,\n",
              " 3785,\n",
              " 33,\n",
              " 4,\n",
              " 130,\n",
              " 12,\n",
              " 16,\n",
              " 38,\n",
              " 619,\n",
              " 5,\n",
              " 25,\n",
              " 124,\n",
              " 51,\n",
              " 36,\n",
              " 135,\n",
              " 48,\n",
              " 25,\n",
              " 1415,\n",
              " 33,\n",
              " 6,\n",
              " 22,\n",
              " 12,\n",
              " 215,\n",
              " 28,\n",
              " 77,\n",
              " 52,\n",
              " 5,\n",
              " 14,\n",
              " 407,\n",
              " 16,\n",
              " 82,\n",
              " 2,\n",
              " 8,\n",
              " 4,\n",
              " 107,\n",
              " 117,\n",
              " 5952,\n",
              " 15,\n",
              " 256,\n",
              " 4,\n",
              " 2,\n",
              " 7,\n",
              " 3766,\n",
              " 5,\n",
              " 723,\n",
              " 36,\n",
              " 71,\n",
              " 43,\n",
              " 530,\n",
              " 476,\n",
              " 26,\n",
              " 400,\n",
              " 317,\n",
              " 46,\n",
              " 7,\n",
              " 4,\n",
              " 2,\n",
              " 1029,\n",
              " 13,\n",
              " 104,\n",
              " 88,\n",
              " 4,\n",
              " 381,\n",
              " 15,\n",
              " 297,\n",
              " 98,\n",
              " 32,\n",
              " 2071,\n",
              " 56,\n",
              " 26,\n",
              " 141,\n",
              " 6,\n",
              " 194,\n",
              " 7486,\n",
              " 18,\n",
              " 4,\n",
              " 226,\n",
              " 22,\n",
              " 21,\n",
              " 134,\n",
              " 476,\n",
              " 26,\n",
              " 480,\n",
              " 5,\n",
              " 144,\n",
              " 30,\n",
              " 5535,\n",
              " 18,\n",
              " 51,\n",
              " 36,\n",
              " 28,\n",
              " 224,\n",
              " 92,\n",
              " 25,\n",
              " 104,\n",
              " 4,\n",
              " 226,\n",
              " 65,\n",
              " 16,\n",
              " 38,\n",
              " 1334,\n",
              " 88,\n",
              " 12,\n",
              " 16,\n",
              " 283,\n",
              " 5,\n",
              " 16,\n",
              " 4472,\n",
              " 113,\n",
              " 103,\n",
              " 32,\n",
              " 15,\n",
              " 16,\n",
              " 5345,\n",
              " 19,\n",
              " 178,\n",
              " 32]"
            ]
          },
          "metadata": {},
          "execution_count": 2
        }
      ]
    },
    {
      "cell_type": "code",
      "metadata": {
        "colab": {
          "base_uri": "https://localhost:8080/"
        },
        "id": "V_U9nM0qkoT7",
        "outputId": "7f881c5a-559e-4eed-f079-33e245712bfd"
      },
      "source": [
        "print(train_labels)\n",
        "train_labels[0] # Crítica positiva"
      ],
      "execution_count": 12,
      "outputs": [
        {
          "output_type": "stream",
          "name": "stdout",
          "text": [
            "[1 0 0 ... 0 1 0]\n"
          ]
        },
        {
          "output_type": "execute_result",
          "data": {
            "text/plain": [
              "1"
            ]
          },
          "metadata": {},
          "execution_count": 12
        }
      ]
    },
    {
      "cell_type": "code",
      "metadata": {
        "colab": {
          "base_uri": "https://localhost:8080/"
        },
        "id": "7ayKIi94ktCR",
        "outputId": "f2024fdf-2e9f-4161-df8a-a0eb8f24ce08"
      },
      "source": [
        "# Ningún índice de palabras excederá las 10K palabras porque solo usamos las 10K\n",
        "# más frecuentes\n",
        "max([max(sequence) for sequence in train_data])"
      ],
      "execution_count": 4,
      "outputs": [
        {
          "output_type": "execute_result",
          "data": {
            "text/plain": [
              "9999"
            ]
          },
          "metadata": {},
          "execution_count": 4
        }
      ]
    },
    {
      "cell_type": "markdown",
      "metadata": {
        "id": "on9uhicSHVbr"
      },
      "source": [
        "Por si se tiene la curiosidad de cual es la crítica en cuestión:"
      ]
    },
    {
      "cell_type": "code",
      "metadata": {
        "colab": {
          "base_uri": "https://localhost:8080/"
        },
        "id": "xWuq6rqQk5AX",
        "outputId": "876bb7e5-e38e-4b04-8713-1c0ce69408bb"
      },
      "source": [
        "# word_index es el diccionario que mapea cada palabra con un ínidice entero \n",
        "word_index = imdb.get_word_index()\n",
        "# print(word_index)\n",
        "# Lo invertimos, asignando índices de enteros a palabras\n",
        "reverse_word_index = dict([(value, key) for (key, value) in word_index.items()])\n",
        "# print(reverse_word_index)\n",
        "# Decodificamos la crítica. Los índices están desviados en 3, porque 0, 1 y 2\n",
        "# están reservados para \"relleno\", \"inicio de secuencia\" y \"desconocido\" \n",
        "decoded_review = ' '.join([reverse_word_index.get(i - 3, '?') for i in train_data[0]])"
      ],
      "execution_count": 5,
      "outputs": [
        {
          "output_type": "stream",
          "name": "stdout",
          "text": [
            "Downloading data from https://storage.googleapis.com/tensorflow/tf-keras-datasets/imdb_word_index.json\n",
            "1646592/1641221 [==============================] - 0s 0us/step\n",
            "1654784/1641221 [==============================] - 0s 0us/step\n"
          ]
        }
      ]
    },
    {
      "cell_type": "code",
      "metadata": {
        "colab": {
          "base_uri": "https://localhost:8080/",
          "height": 139
        },
        "id": "3ojPTuEGk9yk",
        "outputId": "1b2145bd-189c-44ac-ab09-180ea5bc4d73"
      },
      "source": [
        "decoded_review"
      ],
      "execution_count": 6,
      "outputs": [
        {
          "output_type": "execute_result",
          "data": {
            "application/vnd.google.colaboratory.intrinsic+json": {
              "type": "string"
            },
            "text/plain": [
              "\"? this film was just brilliant casting location scenery story direction everyone's really suited the part they played and you could just imagine being there robert ? is an amazing actor and now the same being director ? father came from the same scottish island as myself so i loved the fact there was a real connection with this film the witty remarks throughout the film were great it was just brilliant so much that i bought the film as soon as it was released for ? and would recommend it to everyone to watch and the fly fishing was amazing really cried at the end it was so sad and you know what they say if you cry at a film it must have been good and this definitely was also ? to the two little boy's that played the ? of norman and paul they were just brilliant children are often left out of the ? list i think because the stars that play them all grown up are such a big profile for the whole film but these children are amazing and should be praised for what they have done don't you think the whole story was so lovely because it was true and was someone's life after all that was shared with us all\""
            ]
          },
          "metadata": {},
          "execution_count": 6
        }
      ]
    },
    {
      "cell_type": "markdown",
      "metadata": {
        "id": "FmS4QuGllC9O"
      },
      "source": [
        "## Preparación de Datos"
      ]
    },
    {
      "cell_type": "markdown",
      "metadata": {
        "id": "PD7sbCVVIto7"
      },
      "source": [
        "No podemos meter en la RNA una lista de enteros, hay que convertirlo a tensores. Dos formas de hacerlo:\n",
        "\n",
        "1. Rellenar las listas para que tengan la misma longitud y convertirlas en un tensor de enteros con la forma (muestras, indices_palabras), luego usar como primera capa en nuestra red una capa capaz de manejar esos tensores de enteros (la capa `*Embedding*`, que veremos más adelante).\n",
        "2. Utilizar **codificación one-hot** en las listas para convertirlas en vectores de 0 y 1. Concretamente, esto significaría, por ejemplo, convertir la secuencia [3, 5] en un vector de 10k dimensiones que sería todo ceros excepto los índices 3 y 5, que serían unos. Entonces podríamos usar como primera capa en nuestra red una capa **`Dense`**, capaz de manejar datos vectoriales de punto flotante.\n",
        "\n",
        "Iremos con la segunda solución. Vectoricemos nuestros datos, lo que haremos manualmente para mayor claridad:"
      ]
    },
    {
      "cell_type": "code",
      "metadata": {
        "id": "azBdfkCVlHE5"
      },
      "source": [
        "import numpy as np\n",
        "\n",
        "def vectorize_sequences(sequences, dimension=10000):\n",
        "    # Crea matriz de ceros con la forma (len(sequences), dimension)\n",
        "    results = np.zeros((len(sequences), dimension))\n",
        "    for i, sequence in enumerate(sequences):\n",
        "        results[i, sequence] = 1.  # Pasa índices específicos de results[i] a 1s\n",
        "    return results\n",
        "\n",
        "# Datos de entrenamiento vectorizados\n",
        "x_train = vectorize_sequences(train_data)\n",
        "# Datos de prueba vectorizados\n",
        "x_test = vectorize_sequences(test_data)"
      ],
      "execution_count": 7,
      "outputs": []
    },
    {
      "cell_type": "code",
      "metadata": {
        "colab": {
          "base_uri": "https://localhost:8080/"
        },
        "id": "i1evrCtVlLcX",
        "outputId": "8de34ab0-6ee1-45c3-e6e9-e167908a939b"
      },
      "source": [
        "x_train[0]"
      ],
      "execution_count": 8,
      "outputs": [
        {
          "output_type": "execute_result",
          "data": {
            "text/plain": [
              "array([0., 1., 1., ..., 0., 0., 0.])"
            ]
          },
          "metadata": {},
          "execution_count": 8
        }
      ]
    },
    {
      "cell_type": "code",
      "metadata": {
        "id": "_qS-DucXlR34",
        "outputId": "cf96e0d6-7ec6-4c25-de52-0086243d22e3",
        "colab": {
          "base_uri": "https://localhost:8080/"
        }
      },
      "source": [
        "# Convertimos el vector de etiquetas en un tensor Numpy de coma flotante  \n",
        "y_train = np.asarray(train_labels).astype('float32')\n",
        "y_test = np.asarray(test_labels).astype('float32')\n",
        "y_train"
      ],
      "execution_count": 13,
      "outputs": [
        {
          "output_type": "execute_result",
          "data": {
            "text/plain": [
              "array([1., 0., 0., ..., 0., 1., 0.], dtype=float32)"
            ]
          },
          "metadata": {},
          "execution_count": 13
        }
      ]
    },
    {
      "cell_type": "markdown",
      "metadata": {
        "id": "s4NDk20CNgSL"
      },
      "source": [
        "Ahora los datos ya están listos para que pasen a la red neuronal"
      ]
    },
    {
      "cell_type": "markdown",
      "metadata": {
        "id": "KuodNqe7lVa-"
      },
      "source": [
        "## Construcción de la Red"
      ]
    },
    {
      "cell_type": "markdown",
      "metadata": {
        "id": "49NhlnOKN-jG"
      },
      "source": [
        "* Datos de entrada: vectores y etiquetas escalares (1 y 0)\n",
        "* Un tipo de red que funciona bien con este problema es una simple pila de capas completamente conectadas (densas) con activaciones relu: `Dense(16,activación = 'relu')`\n",
        "* El 16 es el número de \"unidades ocultas\" de la capa (una dimensión en el espacio de representación de la capa).\n",
        "* Cada capa `Dense` con una activación `relu` implementa la siguiente cadena de operaciones de tensor:\n",
        "```python\n",
        "salida=relu(dot(W,entrada)+b)\n",
        "```\n",
        "* Tener 16 unidades ocultas significa que la **matriz de peso W** tendrá **forma (input_dimension, 16)**, es decir, el producto escalar con W proyectará los datos de entrada en un espacio de representación de 16 dimensiones (y luego agregaríamos el vector de sesgo y la operación ``relu``).\n",
        "* Intuitivamente, la dimensionalidad de nuestro espacio de representación es **\"cuánta libertad permitimos que tenga la red cuando aprende representaciones internas\"**. A **mayor número de unidades ocultas** (un espacio de representación de mayor dimensión) **mayor complejidad de representaciones** que permitimos que la red aprenda, pero hace que la **red sea más costosa** computacionalmente y puede conducir al **aprendizaje de patrones no deseados** (patrones que mejorarán el rendimiento en los datos de entrenamiento pero no en el datos de prueba).\n",
        "\n",
        "Dos **decisiones clave** de arquitectura que se deben tomar sobre dicha pila de capas densas:\n",
        "\n",
        "* Cuántas capas usar.\n",
        "* Cuántas \"unidades ocultas\" elegir para cada capa.\n",
        "\n",
        "Aprenderemos los principios formales que os guiarán en la toma de estas decisiones, más adelante. Confiar en mi que ahora lo ideal son **dos capas intermedias con 16 unidades ocultas cada una**, y una **tercera capa que generará la predicción escalar** con respecto al sentimiento de la revisión actual. \n",
        "\n",
        "Las **capas intermedias** usarán ``relu`` como **\"función de activación\"**, y la **capa final** usará una activación **sigmoidea** para **generar una probabilidad** (una puntuación entre 0 y 1, que indica la probabilidad de que la muestra tenga el objetivo \"1\", es decir, la probabilidad de que la revisión sea positiva). \n",
        "\n",
        "Un ``relu`` (**unidad lineal rectificada**) es una **función destinada a poner a cero los valores negativos**, mientras que un **sigmoide** **\"aplasta\" valores arbitrarios en el intervalo [0, 1]**, generando así algo que puede interpretarse como una probabilidad."
      ]
    },
    {
      "cell_type": "markdown",
      "metadata": {
        "id": "tk1Vg5e7S-gi"
      },
      "source": [
        "**RELU**"
      ]
    },
    {
      "cell_type": "markdown",
      "metadata": {
        "id": "lzbpHkheSvNm"
      },
      "source": [
        "![relu function.jpeg](data:image/jpeg;base64,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)"
      ]
    },
    {
      "cell_type": "markdown",
      "metadata": {
        "id": "jgaeBQvWTA2p"
      },
      "source": [
        "**SIGMOID**"
      ]
    },
    {
      "cell_type": "markdown",
      "metadata": {
        "id": "lATgH7_OS5aS"
      },
      "source": [
        "![sigmoid_function.jpeg](data:image/jpeg;base64,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)"
      ]
    },
    {
      "cell_type": "code",
      "metadata": {
        "id": "UN2c9UBslXhe"
      },
      "source": [
        "from keras import models\n",
        "from keras import layers\n",
        "\n",
        "model = models.Sequential()\n",
        "# Entrada, un tensor con la crítica vectorizada (10000 valores)\n",
        "model.add(layers.Dense(16, activation='relu', input_shape=(10000,)))\n",
        "model.add(layers.Dense(16, activation='relu'))\n",
        "model.add(layers.Dense(1, activation='sigmoid'))"
      ],
      "execution_count": 14,
      "outputs": []
    },
    {
      "cell_type": "markdown",
      "metadata": {
        "id": "QuP2KvgHpreh"
      },
      "source": [
        "![RNA_capas.png](data:image/png;base64,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)"
      ]
    },
    {
      "cell_type": "markdown",
      "metadata": {
        "id": "mCI62pR1hInw"
      },
      "source": [
        "Las funciones de activación son necesarias porque si no, la capa ``Dense``consistiría en solo dos operaciones lineales:\n",
        "```python\n",
        "output = dot(W, input) + b\n",
        "```\n",
        "con lo que la capa solo podría aprender transformaciones lineales (afines) de los datos de entrada: el \"espacio de hipótesis\" de la capa sería el conjunto de todas las transformaciones lineales posibles de los datos en un espacio de 16 dimensiones. => Es un espácio muy restringido. Añadir mas capas, no apliaría el espacio de hipótesis. Es por ello por lo que introducimos una función de activación lineal como `relu`. Hay más, como `prelu`, `elu`, etc"
      ]
    },
    {
      "cell_type": "markdown",
      "metadata": {
        "id": "FCZal-DmiPk-"
      },
      "source": [
        "* Ejegir **función de pérdida** y un **optimizador**. \n",
        "* Problema de **clasificación binaria** y la **salida** de nuestra red es una **probabilidad** (terminamos nuestra red con una capa de **una sola unidad** con una activación **sigmoidea**), es mejor usar la pérdida **`binary_crossentropy`**. \n",
        "* No es la única opción viable: podría usar, por ejemplo, **mean_squared_error**. Pero la **entropía cruzada** suele ser la **mejor opción** cuando se trata de **modelos que generan probabilidades**. La entropía cruzada mide la **\"distancia\" entre las distribuciones de probabilidad**, o en nuestro caso, entre la distribución de verdad y nuestras predicciones.\n",
        "* Configuramos nuestro modelo con el optimizador **rmsprop**.\n",
        "* Supervisaremos la **precisión** durante el entrenamiento."
      ]
    },
    {
      "cell_type": "code",
      "metadata": {
        "id": "Q6zVUPBxld8F"
      },
      "source": [
        "model.compile(optimizer='rmsprop',\n",
        "              loss='binary_crossentropy',\n",
        "              metrics=['accuracy'])"
      ],
      "execution_count": 15,
      "outputs": []
    },
    {
      "cell_type": "markdown",
      "metadata": {
        "id": "pcgAmC80jHfX"
      },
      "source": [
        "* Estamos pasando nuestro **optimizador**, **función de pérdida** y **métricas** como **cadenas**, lo cual es posible porque rmsprop, binary_crossentropy y precision están **empaquetados como parte de Keras**. \n",
        "* A veces, es posible que desee configurar los parámetros de su optimizador o pasar una función de pérdida personalizada o una función métrica. Esto primero se puede hacer pasando una instancia de clase de optimizador como argumento del optimizador"
      ]
    },
    {
      "cell_type": "code",
      "metadata": {
        "id": "8-42VQoDlhyW"
      },
      "source": [
        "from tensorflow.keras import optimizers\n",
        "\n",
        "model.compile(optimizer=optimizers.RMSprop(learning_rate=0.001),\n",
        "              loss='binary_crossentropy',\n",
        "              metrics=['accuracy'])"
      ],
      "execution_count": 16,
      "outputs": []
    },
    {
      "cell_type": "code",
      "metadata": {
        "id": "pYghLDiplpkW"
      },
      "source": [
        "from keras import losses\n",
        "from keras import metrics\n",
        "\n",
        "model.compile(optimizer=optimizers.RMSprop(learning_rate=0.001),\n",
        "              loss=losses.binary_crossentropy,\n",
        "              metrics=[metrics.binary_accuracy])"
      ],
      "execution_count": 17,
      "outputs": []
    },
    {
      "cell_type": "markdown",
      "metadata": {
        "id": "3bfTWpnWls9-"
      },
      "source": [
        "## Validar nuestra Aproximación"
      ]
    },
    {
      "cell_type": "markdown",
      "metadata": {
        "id": "iE548D_OCDby"
      },
      "source": [
        "Crearemos un **\"conjunto de validación\"** separando 10K muestras de los datos de entrenamiento originales, para monitorizar la precisión del modelo durante el entrenamiento con datos que nunca había visto"
      ]
    },
    {
      "cell_type": "code",
      "metadata": {
        "id": "TcEfefA3lwo_"
      },
      "source": [
        "x_val = x_train[:10000]\n",
        "partial_x_train = x_train[10000:]\n",
        "\n",
        "y_val = y_train[:10000]\n",
        "partial_y_train = y_train[10000:]"
      ],
      "execution_count": 18,
      "outputs": []
    },
    {
      "cell_type": "markdown",
      "metadata": {
        "id": "CBEw4vkiDCVH"
      },
      "source": [
        "* **Entrenamos** nuestro modelo durante **20 épocas** (20 iteraciones sobre todas las muestras en los tensores ``x_train`` e ``y_train``), en **mini lotes de 512 muestras**. \n",
        "* A la vez, monitorizamos la **pérdida** y la **precisión** de las 10K muestras que separamos. Esto se hace pasando los datos de validación como el argumento ``validation_data``:"
      ]
    },
    {
      "cell_type": "code",
      "metadata": {
        "colab": {
          "base_uri": "https://localhost:8080/"
        },
        "id": "eZOWDFRbl4RU",
        "outputId": "a6939dd9-3569-46e2-80ec-1353c0c15416"
      },
      "source": [
        "model.compile(optimizer='rmsprop',\n",
        "              loss='binary_crossentropy',\n",
        "              metrics=['acc'])\n",
        "\n",
        "history = model.fit(partial_x_train,\n",
        "                    partial_y_train,\n",
        "                    epochs=20,\n",
        "                    batch_size=512,\n",
        "                    validation_data=(x_val, y_val))"
      ],
      "execution_count": 19,
      "outputs": [
        {
          "output_type": "stream",
          "name": "stdout",
          "text": [
            "Epoch 1/20\n",
            "30/30 [==============================] - 4s 44ms/step - loss: 0.5020 - acc: 0.7912 - val_loss: 0.3760 - val_acc: 0.8701\n",
            "Epoch 2/20\n",
            "30/30 [==============================] - 1s 20ms/step - loss: 0.2964 - acc: 0.9051 - val_loss: 0.2966 - val_acc: 0.8911\n",
            "Epoch 3/20\n",
            "30/30 [==============================] - 1s 19ms/step - loss: 0.2148 - acc: 0.9309 - val_loss: 0.2760 - val_acc: 0.8910\n",
            "Epoch 4/20\n",
            "30/30 [==============================] - 1s 20ms/step - loss: 0.1708 - acc: 0.9452 - val_loss: 0.2739 - val_acc: 0.8903\n",
            "Epoch 5/20\n",
            "30/30 [==============================] - 1s 19ms/step - loss: 0.1362 - acc: 0.9575 - val_loss: 0.2827 - val_acc: 0.8878\n",
            "Epoch 6/20\n",
            "30/30 [==============================] - 1s 20ms/step - loss: 0.1156 - acc: 0.9631 - val_loss: 0.3119 - val_acc: 0.8796\n",
            "Epoch 7/20\n",
            "30/30 [==============================] - 1s 19ms/step - loss: 0.0961 - acc: 0.9704 - val_loss: 0.3183 - val_acc: 0.8801\n",
            "Epoch 8/20\n",
            "30/30 [==============================] - 1s 20ms/step - loss: 0.0790 - acc: 0.9782 - val_loss: 0.3337 - val_acc: 0.8824\n",
            "Epoch 9/20\n",
            "30/30 [==============================] - 1s 20ms/step - loss: 0.0666 - acc: 0.9818 - val_loss: 0.3745 - val_acc: 0.8773\n",
            "Epoch 10/20\n",
            "30/30 [==============================] - 1s 20ms/step - loss: 0.0555 - acc: 0.9862 - val_loss: 0.3893 - val_acc: 0.8781\n",
            "Epoch 11/20\n",
            "30/30 [==============================] - 1s 20ms/step - loss: 0.0446 - acc: 0.9886 - val_loss: 0.4133 - val_acc: 0.8751\n",
            "Epoch 12/20\n",
            "30/30 [==============================] - 1s 20ms/step - loss: 0.0356 - acc: 0.9919 - val_loss: 0.4411 - val_acc: 0.8737\n",
            "Epoch 13/20\n",
            "30/30 [==============================] - 1s 20ms/step - loss: 0.0272 - acc: 0.9951 - val_loss: 0.4806 - val_acc: 0.8755\n",
            "Epoch 14/20\n",
            "30/30 [==============================] - 1s 20ms/step - loss: 0.0236 - acc: 0.9951 - val_loss: 0.5054 - val_acc: 0.8719\n",
            "Epoch 15/20\n",
            "30/30 [==============================] - 1s 20ms/step - loss: 0.0199 - acc: 0.9957 - val_loss: 0.5388 - val_acc: 0.8706\n",
            "Epoch 16/20\n",
            "30/30 [==============================] - 1s 20ms/step - loss: 0.0163 - acc: 0.9969 - val_loss: 0.5684 - val_acc: 0.8694\n",
            "Epoch 17/20\n",
            "30/30 [==============================] - 1s 20ms/step - loss: 0.0087 - acc: 0.9995 - val_loss: 0.6170 - val_acc: 0.8683\n",
            "Epoch 18/20\n",
            "30/30 [==============================] - 1s 20ms/step - loss: 0.0104 - acc: 0.9987 - val_loss: 0.6447 - val_acc: 0.8653\n",
            "Epoch 19/20\n",
            "30/30 [==============================] - 1s 19ms/step - loss: 0.0111 - acc: 0.9971 - val_loss: 0.6783 - val_acc: 0.8652\n",
            "Epoch 20/20\n",
            "30/30 [==============================] - 1s 19ms/step - loss: 0.0038 - acc: 0.9999 - val_loss: 0.7020 - val_acc: 0.8639\n"
          ]
        }
      ]
    },
    {
      "cell_type": "markdown",
      "metadata": {
        "id": "Qn1DTu0XD3Ih"
      },
      "source": [
        "* Al final de cada época, hay una pequeña pausa mientras el modelo **calcula su pérdida y precisión** en las 10K muestras de los datos de validación.\n",
        "\n",
        "* La llamada a ``model.fit()`` devuelve un objeto ``History``. Este objeto tiene un **atributo ``history``**, que es un **diccionario** que contiene datos sobre **todo lo que sucedió durante el entrenamiento**. Echemos un vistazo a esto:"
      ]
    },
    {
      "cell_type": "code",
      "metadata": {
        "colab": {
          "base_uri": "https://localhost:8080/"
        },
        "id": "WW6hQfs7l-mW",
        "outputId": "5f59ead8-2da0-4dfe-e0a0-a8d7a6848b57"
      },
      "source": [
        "history_dict = history.history\n",
        "history_dict.keys()\n",
        "print(history_dict['loss'])\n",
        "print(history_dict['acc'])\n",
        "print(history_dict['val_loss'])\n",
        "print(history_dict['val_acc'])"
      ],
      "execution_count": 20,
      "outputs": [
        {
          "output_type": "stream",
          "name": "stdout",
          "text": [
            "[0.5020256638526917, 0.29639190435409546, 0.21478228271007538, 0.1708201766014099, 0.1361514776945114, 0.1156325489282608, 0.0960928201675415, 0.07898616790771484, 0.06661097705364227, 0.05550063028931618, 0.04458004608750343, 0.03559175878763199, 0.027177944779396057, 0.02361758053302765, 0.019931618124246597, 0.01633862592279911, 0.008700357750058174, 0.010364261455833912, 0.011054763570427895, 0.0038017609622329473]\n",
            "[0.7911999821662903, 0.9050666689872742, 0.9308666586875916, 0.9452000260353088, 0.9575333595275879, 0.9631333351135254, 0.9703999757766724, 0.9782000184059143, 0.9818000197410583, 0.9861999750137329, 0.9886000156402588, 0.9918666481971741, 0.9951333403587341, 0.9950666427612305, 0.9957333207130432, 0.9968666434288025, 0.9994666576385498, 0.9986666440963745, 0.9971333146095276, 0.9998666644096375]\n",
            "[0.37595251202583313, 0.2965535521507263, 0.2759568393230438, 0.27391955256462097, 0.2826995253562927, 0.31190598011016846, 0.31832319498062134, 0.333736389875412, 0.37446480989456177, 0.3892710208892822, 0.41328611969947815, 0.44105589389801025, 0.48062455654144287, 0.5053764581680298, 0.5388449430465698, 0.5683779716491699, 0.6169715523719788, 0.6447173357009888, 0.6783215999603271, 0.7019987106323242]\n",
            "[0.8701000213623047, 0.8910999894142151, 0.890999972820282, 0.8902999758720398, 0.8877999782562256, 0.8795999884605408, 0.8801000118255615, 0.8823999762535095, 0.8773000240325928, 0.8780999779701233, 0.8751000165939331, 0.8737000226974487, 0.8755000233650208, 0.8719000220298767, 0.8705999851226807, 0.8694000244140625, 0.8683000206947327, 0.8652999997138977, 0.8651999831199646, 0.8639000058174133]\n"
          ]
        }
      ]
    },
    {
      "cell_type": "markdown",
      "metadata": {
        "id": "grBOSzuYFLJX"
      },
      "source": [
        "* El diccionario contiene 4 entradas: una por métrica que se estaba monitorizando durante el entrenamiento y durante la validación.\n",
        "* Usaremos **Matplotlib** para graficar la **pérdida** de **entrenamiento** y la de **validación** una al lado de otra, así como la **precisión** de **entrenamiento** y **validación**:\n",
        "* Las posibles diferencias entre una ejecución y otra es debida a la inicialización aleatoria de los pesos"
      ]
    },
    {
      "cell_type": "code",
      "metadata": {
        "colab": {
          "base_uri": "https://localhost:8080/",
          "height": 295
        },
        "id": "KdiSMYNSl_Qr",
        "outputId": "b712dfe5-f94b-4441-a64d-8372fac6c1ac"
      },
      "source": [
        "import matplotlib.pyplot as plt\n",
        "\n",
        "acc = history.history['acc']\n",
        "val_acc = history.history['val_acc']\n",
        "loss = history.history['loss']\n",
        "val_loss = history.history['val_loss']\n",
        "\n",
        "epochs = range(1, len(acc) + 1)\n",
        "\n",
        "# \"bo\" es para \"punto azun\"\n",
        "plt.plot(epochs, loss, 'bo', label='Pérdida de Entrenamiento')\n",
        "# \"b\" es para \"linea continua azul\"\n",
        "plt.plot(epochs, val_loss, 'b', label='Pérdida de Validación')\n",
        "plt.title('Pérdida de Entrenamiento y Validación')\n",
        "plt.xlabel('Epochs')\n",
        "plt.ylabel('Loss')\n",
        "plt.legend()\n",
        "\n",
        "plt.show()"
      ],
      "execution_count": 21,
      "outputs": [
        {
          "output_type": "display_data",
          "data": {
            "image/png": "[encoded data removed]",
            "text/plain": [
              "<Figure size 432x288 with 1 Axes>"
            ]
          },
          "metadata": {
            "needs_background": "light"
          }
        }
      ]
    },
    {
      "cell_type": "markdown",
      "metadata": {
        "id": "GpGYGR74HOvr"
      },
      "source": [
        "* Se ve claramente que **cuanto más se entrena**, **menor es la pérdida durante el entrenamiento**"
      ]
    },
    {
      "cell_type": "code",
      "metadata": {
        "colab": {
          "base_uri": "https://localhost:8080/",
          "height": 295
        },
        "id": "gnboxjcXmEy4",
        "outputId": "add80883-f312-4ee6-a45a-95cab4b77895"
      },
      "source": [
        "plt.clf()   # Limpia la figura\n",
        "acc_values = history_dict['acc']\n",
        "val_acc_values = history_dict['val_acc']\n",
        "\n",
        "plt.plot(epochs, acc, 'bo', label='Precisión de Entrenamiento')\n",
        "plt.plot(epochs, val_acc, 'b', label='Precisión de Validación')\n",
        "plt.title('Precisión de Entrenamiento y Valización')\n",
        "plt.xlabel('Epochs')\n",
        "plt.ylabel('Loss')\n",
        "plt.legend()\n",
        "\n",
        "plt.show()"
      ],
      "execution_count": 22,
      "outputs": [
        {
          "output_type": "display_data",
          "data": {
            "image/png": "[encoded data removed]",
            "text/plain": [
              "<Figure size 432x288 with 1 Axes>"
            ]
          },
          "metadata": {
            "needs_background": "light"
          }
        }
      ]
    },
    {
      "cell_type": "markdown",
      "metadata": {
        "id": "quAHDfE2HgMU"
      },
      "source": [
        "* Se ve claramente que **cuanto más se entrena**, **mayor es la precisión del modelo durante el entrenamiento**"
      ]
    },
    {
      "cell_type": "markdown",
      "metadata": {
        "id": "e2a8MTAnHrVv"
      },
      "source": [
        "* Eso es lo que esperaría al ejecutar la **optimización del descenso de gradientes**: la cantidad que está tratando de minimizar debería disminuir con cada iteración, como así acurre\n",
        "* No es el caso de la **pérdida y precisión de la validación**: parecen alcanzar su **punto máximo en la cuarta época**. \n",
        "* **Un modelo con un desempeño mejor en los datos de entrenamiento no es necesariamente mejor en datos que nunca antes había visto**\n",
        "* Esto es debido al concepto que llevamos advirtiendo estos dias: **\"sobreajuste\"**: \n",
        "* Tras cada segunda repetición, estamos **sobreoptimizando los datos de entrenamiento** y terminamos **aprendiendo representaciones que son específicas de los datos de entrenamiento** y **no se generalizan** a datos fuera del conjunto de entrenamiento.\n",
        "* **EVITAR SOBREAJUSTE**:\n",
        "  - Dejar de entrenar después de tres épocas.\n",
        "\n",
        "Lo veremos con más detalle más adelante\n",
        "\n",
        "Entrenemos una nueva red desde cero durante cuatro épocas, luego la evaluaremos con nuestros datos de prueba:"
      ]
    },
    {
      "cell_type": "code",
      "metadata": {
        "colab": {
          "base_uri": "https://localhost:8080/"
        },
        "id": "MPZpUgMzmIPq",
        "outputId": "e5842ff2-59b2-4501-9c73-32c2a886aa38"
      },
      "source": [
        "model = models.Sequential()\n",
        "model.add(layers.Dense(16, activation='relu', input_shape=(10000,)))\n",
        "model.add(layers.Dense(16, activation='relu'))\n",
        "model.add(layers.Dense(1, activation='sigmoid'))\n",
        "\n",
        "model.compile(optimizer='rmsprop',\n",
        "              loss='binary_crossentropy',\n",
        "              metrics=['accuracy'])\n",
        "\n",
        "model.fit(x_train, y_train, epochs=4, batch_size=512)\n",
        "results = model.evaluate(x_test, y_test)"
      ],
      "execution_count": 23,
      "outputs": [
        {
          "output_type": "stream",
          "name": "stdout",
          "text": [
            "Epoch 1/4\n",
            "49/49 [==============================] - 1s 13ms/step - loss: 0.4605 - accuracy: 0.8207\n",
            "Epoch 2/4\n",
            "49/49 [==============================] - 1s 13ms/step - loss: 0.2601 - accuracy: 0.9087\n",
            "Epoch 3/4\n",
            "49/49 [==============================] - 1s 13ms/step - loss: 0.2012 - accuracy: 0.9272\n",
            "Epoch 4/4\n",
            "49/49 [==============================] - 1s 13ms/step - loss: 0.1680 - accuracy: 0.9400\n",
            "782/782 [==============================] - 2s 3ms/step - loss: 0.2941 - accuracy: 0.8839\n"
          ]
        }
      ]
    },
    {
      "cell_type": "code",
      "metadata": {
        "colab": {
          "base_uri": "https://localhost:8080/"
        },
        "id": "F2-YxJdfmMfb",
        "outputId": "de4de8da-45c1-43cf-b626-66ad8b25056c"
      },
      "source": [
        "results"
      ],
      "execution_count": 24,
      "outputs": [
        {
          "output_type": "execute_result",
          "data": {
            "text/plain": [
              "[0.294052392244339, 0.8838800191879272]"
            ]
          },
          "metadata": {},
          "execution_count": 24
        }
      ]
    },
    {
      "cell_type": "markdown",
      "metadata": {
        "id": "Lj4cxm9DJUY9"
      },
      "source": [
        "Este es un **enfoque bastante naive**, pero consigue una exactitud del 88%. Con efoques de última generación, llegaríamos facilmente al 95%"
      ]
    },
    {
      "cell_type": "markdown",
      "metadata": {
        "id": "zxZU75S2mQYv"
      },
      "source": [
        "## Usando la red entrenada para generar predicciones sobre nuevos datos"
      ]
    },
    {
      "cell_type": "markdown",
      "metadata": {
        "id": "GvmGFWQRJl5r"
      },
      "source": [
        "Una vez con la red entrenada, queremos usarla en un entorno práctico. Podemos **generar la probabilidad** de que las críticas sean positivas utilizando el método ``predict`` "
      ]
    },
    {
      "cell_type": "code",
      "metadata": {
        "colab": {
          "base_uri": "https://localhost:8080/"
        },
        "id": "F_lWXF22mZ6K",
        "outputId": "5b139d6e-5c0f-4dea-ebfa-a3d3ac58d6ba"
      },
      "source": [
        "model.predict(x_test)"
      ],
      "execution_count": 25,
      "outputs": [
        {
          "output_type": "execute_result",
          "data": {
            "text/plain": [
              "array([[0.19864818],\n",
              "       [0.99991906],\n",
              "       [0.9237714 ],\n",
              "       ...,\n",
              "       [0.18189089],\n",
              "       [0.10551186],\n",
              "       [0.64890933]], dtype=float32)"
            ]
          },
          "metadata": {},
          "execution_count": 25
        }
      ]
    },
    {
      "cell_type": "markdown",
      "metadata": {
        "id": "qHiFPPToKGYD"
      },
      "source": [
        "La red tiene confianza con algunas muestras (0.99 o más, o 0.01 o menos), pero menos confianza en otras (0.6 o 0.4)"
      ]
    },
    {
      "cell_type": "code",
      "metadata": {
        "id": "6TNszthQHxHI",
        "outputId": "bd130049-cf19-4a6b-f867-db49552f4929",
        "colab": {
          "base_uri": "https://localhost:8080/"
        }
      },
      "source": [
        "test_loss, test_acc = model.evaluate(x_test, y_test)\n",
        "print(\"Pérdida con los datos de test:\", test_loss)\n",
        "print(\"Precisión con los datos de test:\", test_acc)"
      ],
      "execution_count": 29,
      "outputs": [
        {
          "output_type": "stream",
          "name": "stdout",
          "text": [
            "782/782 [==============================] - 2s 3ms/step - loss: 0.2941 - accuracy: 0.8839\n",
            "Pérdida con los datos de test: 0.294052392244339\n",
            "Precisión con los datos de test: 0.8838800191879272\n"
          ]
        }
      ]
    },
    {
      "cell_type": "markdown",
      "metadata": {
        "id": "hIV2Q_vAmb0e"
      },
      "source": [
        "## Experimentos Adicionales y Conclusiones"
      ]
    },
    {
      "cell_type": "markdown",
      "metadata": {
        "id": "LPcdMxXdKjI8"
      },
      "source": [
        "* Usamos 2 capas ocultas. Intentad usar 1 o 3 capas ocultas y mirar cómo afecta la validación y la precisión de la prueba.\n",
        "* Intentad utilizar capas con unidades más ocultas o unidades menos ocultas: 8 unidades, 32 unidades, etc\n",
        "* Intentad utilizar la función de pérdida ``mse`` en lugar de ``binary_crossentropy``.\n",
        "* Intentad usar la activación ``tanh`` (una activación que era popular en los primeros días de las redes neuronales) en lugar de ``relu``.\n",
        "* Estos experimentos te ayudarán a convencerte de que las elecciones de arquitectura que hemos elegido son todas bastante razonables, ¡aunque aún se pueden mejorar!"
      ]
    },
    {
      "cell_type": "markdown",
      "metadata": {
        "id": "hMY-FN60LVhv"
      },
      "source": [
        "**¿Qué cosas deberíamos haber aprendido de este ejemplo?**"
      ]
    },
    {
      "cell_type": "markdown",
      "metadata": {
        "id": "VE0XUWhyLdhk"
      },
      "source": [
        "* Por lo general, es necesario realizar un poco de **preprocesamiento en sus datos de entrada** ,sin procesar, para poder alimentarlos, **como tensores**, en una red neuronal. En el caso de secuencias de palabras, se pueden codificar como vectores binarios, pero también existen otras opciones de codificación.\n",
        "* Las **pilas de capas densas** con **activaciones de ``relu``** pueden resolver una amplia gama de problemas (incluida la **clasificación de sentimientos**), y es probable que las uséis con frecuencia.\n",
        "* En un **problema de clasificación binaria** (dos clases de salida), su red debe **terminar** con **una capa densa con 1 unidad** y una **activación sigmoidea**, es decir, la salida de su red debe ser un escalar entre 0 y 1, codificando una **probabilidad**.\n",
        "* Con una **salida sigmoide escalar**, en un problema de **clasificación binaria**, la función de pérdida que debe usar es ``binary_crossentropy``.\n",
        "* El optimizador ``rmsprop`` es generalmente una buena opción de optimizador, **sea cual sea su problema**. Una cosa menos de la que preocuparte.\n",
        "* A medida que mejoran con sus datos de entrenamiento, las redes neuronales eventualmente comienzan a **sobreajustarse** y terminan **obteniendo resultados cada vez peores en datos nunca antes vistos**. Asegúrese de **supervisar siempre el rendimiento de los datos que están fuera del conjunto de entrenamiento**."
      ]
    },
    {
      "cell_type": "markdown",
      "metadata": {
        "id": "9tV80TkjLdZF"
      },
      "source": [
        "---"
      ]
    }
  ]
}