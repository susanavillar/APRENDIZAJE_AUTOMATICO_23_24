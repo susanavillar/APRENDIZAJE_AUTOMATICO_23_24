{
  "nbformat": 4,
  "nbformat_minor": 0,
  "metadata": {
    "colab": {
      "name": "2_2_Representaciones_de_Datos_para_RNA.ipynb",
      "provenance": [],
      "authorship_tag": "ABX9TyNaz1pP9XyEXczE+bH+LQt/"
    },
    "kernelspec": {
      "name": "python3",
      "display_name": "Python 3"
    },
    "language_info": {
      "name": "python"
    }
  },
  "cells": [
    {
      "cell_type": "markdown",
      "metadata": {
        "id": "CkENI9v29QsR"
      },
      "source": [
        "## Representaciones de datos para Redes Neuronales\n",
        "- En el ejemplo anteior los datos estában en matrices multidimensionales **Numpy** también llamadas **tensores**\n",
        "- Un **tensor** es un contenedor de datos, casi siempre numéricos. Una **Matriz** es un **Tensor Bidimensional**\n",
        "- En un tensor, la **dimensión** se llama **eje** y el **número de ejes** se llama **rango**\n",
        "\n",
        "### Tensores 0D (escalares)\n",
        "- En **Numpy**, un número `float32` o `float64` es un tensor escalar\n",
        "- Podemos mostrar el número de ejes de un tensor Numpy a el atributo `ndim` (en el caso del tensor escalar será igual a cero)\n"
      ]
    },
    {
      "cell_type": "code",
      "metadata": {
        "colab": {
          "base_uri": "https://localhost:8080/"
        },
        "id": "tfdgpnqL9Dgc",
        "outputId": "72bd3aac-04f1-453c-8697-49c68a0214af"
      },
      "source": [
        "import numpy as np\n",
        "x = np.array(12)\n",
        "x, x.ndim"
      ],
      "execution_count": null,
      "outputs": [
        {
          "output_type": "execute_result",
          "data": {
            "text/plain": [
              "(array(12), 0)"
            ]
          },
          "metadata": {},
          "execution_count": 1
        }
      ]
    },
    {
      "cell_type": "markdown",
      "metadata": {
        "id": "vYi0ZznlFXAB"
      },
      "source": [
        "### Tensores 1D (vectores)\n",
        "- En **Numpy**, una cadena de números es un tensor 1D o **vector**\n",
        "- Un **tensor 1D** tiene exactamente un **eje A**"
      ]
    },
    {
      "cell_type": "code",
      "metadata": {
        "colab": {
          "base_uri": "https://localhost:8080/"
        },
        "id": "2NG1_0MuFzhh",
        "outputId": "9005d4b3-5e5b-4668-d01c-5b8bb73e4c76"
      },
      "source": [
        "x = np.array([12, 3, 6, 14, 7])\n",
        "x, x.ndim"
      ],
      "execution_count": null,
      "outputs": [
        {
          "output_type": "execute_result",
          "data": {
            "text/plain": [
              "(array([12,  3,  6, 14,  7]), 1)"
            ]
          },
          "metadata": {},
          "execution_count": 2
        }
      ]
    },
    {
      "cell_type": "markdown",
      "metadata": {
        "id": "jL70a48y9LYV"
      },
      "source": [
        "- Este vector de 5 entradas es un **vector 5-dimensional** (1 eje y 5 dimensiones) que no debemos confundir con un **tensor 5D** (que tendría 5 ejes, con cualquier cantidad de dimensiones a lo largo de cada eje, también llamado **tensor de rango 5**)"
      ]
    },
    {
      "cell_type": "markdown",
      "metadata": {
        "id": "OfhjfNs5HzE2"
      },
      "source": [
        "### Tensores 2D (matrices)\n",
        "- En **Numpy**, una cadena de vectores es un tensor 2D o **matriz**\n",
        "- Un **tensor 2D** tiene exactamente un **eje filas**  y un **eje colunas**"
      ]
    },
    {
      "cell_type": "code",
      "metadata": {
        "colab": {
          "base_uri": "https://localhost:8080/"
        },
        "id": "NLCHI-VXHyte",
        "outputId": "e0e91a47-3e13-410b-e6a7-366080dbf564"
      },
      "source": [
        "x = np.array([[5, 78, 2, 34, 0],\n",
        "              [6, 79, 3, 35, 1],\n",
        "              [7, 80, 4, 36, 2]])\n",
        "x, x.ndim"
      ],
      "execution_count": null,
      "outputs": [
        {
          "output_type": "execute_result",
          "data": {
            "text/plain": [
              "(array([[ 5, 78,  2, 34,  0],\n",
              "        [ 6, 79,  3, 35,  1],\n",
              "        [ 7, 80,  4, 36,  2]]), 2)"
            ]
          },
          "metadata": {},
          "execution_count": 3
        }
      ]
    },
    {
      "cell_type": "markdown",
      "metadata": {
        "id": "Oxb8KArFK_W3"
      },
      "source": [
        "### Tensores 3D y con más dimensiones\n",
        "- En **Numpy**, una cadena de matrices (cubo de números) es un tensor 3D\n",
        "- Con Deep Learning solemos manipular tensores de 0D a 4D aunque si trabajamos con **video**, lo hacemos con **tensores 5D**"
      ]
    },
    {
      "cell_type": "code",
      "metadata": {
        "colab": {
          "base_uri": "https://localhost:8080/"
        },
        "id": "JahltSLJHeHH",
        "outputId": "b43d15ab-f4ef-4aef-d007-d6ccd9971f24"
      },
      "source": [
        "x = np.array([[[5, 78, 2, 34, 0],\n",
        "               [6, 79, 3, 35, 1],\n",
        "               [7, 80, 4, 36, 2]],\n",
        "              [[5, 78, 2, 34, 0],\n",
        "               [6, 79, 3, 35, 1],\n",
        "               [7, 80, 4, 36, 2]],\n",
        "              [[5, 78, 2, 34, 0],\n",
        "               [6, 79, 3, 35, 1],\n",
        "               [7, 80, 4, 36, 2]]])\n",
        "x, x.ndim"
      ],
      "execution_count": null,
      "outputs": [
        {
          "output_type": "execute_result",
          "data": {
            "text/plain": [
              "(array([[[ 5, 78,  2, 34,  0],\n",
              "         [ 6, 79,  3, 35,  1],\n",
              "         [ 7, 80,  4, 36,  2]],\n",
              " \n",
              "        [[ 5, 78,  2, 34,  0],\n",
              "         [ 6, 79,  3, 35,  1],\n",
              "         [ 7, 80,  4, 36,  2]],\n",
              " \n",
              "        [[ 5, 78,  2, 34,  0],\n",
              "         [ 6, 79,  3, 35,  1],\n",
              "         [ 7, 80,  4, 36,  2]]]), 3)"
            ]
          },
          "metadata": {},
          "execution_count": 4
        }
      ]
    },
    {
      "cell_type": "markdown",
      "metadata": {
        "id": "BNhmOsJLMUkh"
      },
      "source": [
        "### Atributos Clave de un tensor\n",
        "1. **Número de ejes (rango)**: es el `ndim` de Numpy\n",
        "2. **Forma**: Tupla de enteros que indica cuantas dimensiones tiene el tensor en cada eje:\n",
        "  - El **escalar** del ejemplo (**tensor 0D**) tiene **forma ()**\n",
        "  - El **vector** del ejemplo (**tensor 1D**) tiene **forma (5,)**\n",
        "  - La **matriz** del ejemplo (**tensor 2D**) tiene **forma (3,5)**\n",
        "  - El **tensor 3D** del ejemplo tiene **forma (3,3,5)**)\n",
        "3. **Tipo de Datos** `dtype`:\n",
        "  - `float32`\n",
        "  - `uint8`\n",
        "  - `float64`\n",
        "  - ...\n",
        "  - Tensor `char` dificilmente de encontrar (no soportado por Numpy)"
      ]
    },
    {
      "cell_type": "code",
      "metadata": {
        "colab": {
          "base_uri": "https://localhost:8080/"
        },
        "id": "qZvVq3IuMOls",
        "outputId": "bc848137-3309-4729-aa5b-d693c577eaf7"
      },
      "source": [
        "from keras.datasets import mnist\n",
        "\n",
        "(train_images, train_labels), (test_images, test_labels) = mnist.load_data()\n",
        "\n",
        "# 60K Matrices (imágenes) de 28 filas (píxeles) x 28 columanas (píxeles)\n",
        "# de enteros de 8 bits (256 valores en escala de grises)\n",
        "train_images.ndim, train_images.shape, train_images.dtype"
      ],
      "execution_count": null,
      "outputs": [
        {
          "output_type": "stream",
          "name": "stdout",
          "text": [
            "Downloading data from https://storage.googleapis.com/tensorflow/tf-keras-datasets/mnist.npz\n",
            "11493376/11490434 [==============================] - 0s 0us/step\n",
            "11501568/11490434 [==============================] - 0s 0us/step\n"
          ]
        },
        {
          "output_type": "execute_result",
          "data": {
            "text/plain": [
              "(3, (60000, 28, 28), dtype('uint8'))"
            ]
          },
          "metadata": {},
          "execution_count": 3
        }
      ]
    },
    {
      "cell_type": "code",
      "metadata": {
        "colab": {
          "base_uri": "https://localhost:8080/",
          "height": 265
        },
        "id": "y5_HcVWfQyBE",
        "outputId": "711d7185-3fe3-4c82-ecf0-476e3acd34ae"
      },
      "source": [
        "# Veamos el cuarto elemento de ese tensor y pintémoslo con matplotlib\n",
        "import matplotlib.pyplot as plt\n",
        "# Seleccionamos un dígito específico a lo largo del primer eje (Cortar el tensor)\n",
        "digit = train_images[4]\n",
        "plt.imshow(digit, cmap=plt.cm.binary)\n",
        "plt.show()"
      ],
      "execution_count": null,
      "outputs": [
        {
          "output_type": "display_data",
          "data": {
            "image/png": "[encoded data removed]",
            "text/plain": [
              "<Figure size 432x288 with 1 Axes>"
            ]
          },
          "metadata": {
            "needs_background": "light"
          }
        }
      ]
    },
    {
      "cell_type": "markdown",
      "metadata": {
        "id": "NxloLU076ued"
      },
      "source": [
        "### Manipular tensores en Numpy\n",
        "- Operaciones de corte de tensores"
      ]
    },
    {
      "cell_type": "code",
      "metadata": {
        "colab": {
          "base_uri": "https://localhost:8080/"
        },
        "id": "HdbwPbhU6tz7",
        "outputId": "a2f38fb1-dd06-4020-acf2-78045b5d9b5a"
      },
      "source": [
        "# Selecciono número de 10 a 100 (100 no incluido)\n",
        "# y los mete en una cadena de forma (90,28,28)\n",
        "my_slice = train_images[10:100]\n",
        "my_slice.shape"
      ],
      "execution_count": null,
      "outputs": [
        {
          "output_type": "execute_result",
          "data": {
            "text/plain": [
              "(90, 28, 28)"
            ]
          },
          "metadata": {},
          "execution_count": 5
        }
      ]
    },
    {
      "cell_type": "code",
      "metadata": {
        "colab": {
          "base_uri": "https://localhost:8080/"
        },
        "id": "0n_I3KWX7jPF",
        "outputId": "caa402de-aa61-4789-cb25-51c303671344"
      },
      "source": [
        "# Que es lo mismo que hacer esto\n",
        "my_slice = train_images[10:100, :, :]\n",
        "my_slice.shape"
      ],
      "execution_count": null,
      "outputs": [
        {
          "output_type": "execute_result",
          "data": {
            "text/plain": [
              "(90, 28, 28)"
            ]
          },
          "metadata": {},
          "execution_count": 6
        }
      ]
    },
    {
      "cell_type": "code",
      "metadata": {
        "colab": {
          "base_uri": "https://localhost:8080/"
        },
        "id": "uIg5YFf87kP8",
        "outputId": "31765822-d10c-4b0b-da3e-0953f9526b04"
      },
      "source": [
        "# Que es lo mismo que hacer esto\n",
        "my_slice = train_images[10:100, 0:28, 0:28]\n",
        "my_slice.shape"
      ],
      "execution_count": null,
      "outputs": [
        {
          "output_type": "execute_result",
          "data": {
            "text/plain": [
              "(90, 28, 28)"
            ]
          },
          "metadata": {},
          "execution_count": 7
        }
      ]
    },
    {
      "cell_type": "code",
      "metadata": {
        "id": "RuK34HHk7nsM"
      },
      "source": [
        "# Selecciona 14 x 14 píxeles en la esquina inferior derecha\n",
        "# de todas las imágenes\n",
        "my_slice = train_images[:, 14:, 14:]"
      ],
      "execution_count": null,
      "outputs": []
    },
    {
      "cell_type": "code",
      "metadata": {
        "id": "aY3Zzve67pun"
      },
      "source": [
        "# Selecciona 14 x 14 píxeles centradas en el medio\n",
        "# de todas las imágenes\n",
        "my_slice = train_images[:, 7:-7, 7:-7]"
      ],
      "execution_count": null,
      "outputs": []
    },
    {
      "cell_type": "markdown",
      "metadata": {
        "id": "RGsonebD-fUq"
      },
      "source": [
        "### Notación de los lotes de datos\n",
        "- Todos los índices empiezan por 0\n",
        "- El primer eje (el 0) es el **eje de muestras** o **dimensión de muestras**. En el ejemplo, las muestras son las imágenes en formato matriz\n",
        "- Los modelos de deep learning no procesan un conjunto de datos completos de una vez, si no que los descomponen en **lotes** pequeños.\n",
        "- Al considerar un tensor en lotes, el primer eje (eje 0) se llama **eje del lote** o **dimensión del lote**"
      ]
    },
    {
      "cell_type": "code",
      "metadata": {
        "id": "qplSI4nN_kLq"
      },
      "source": [
        "# Ejemplo de lote de 128 - lote 0\n",
        "batch = train_images[:128]"
      ],
      "execution_count": null,
      "outputs": []
    },
    {
      "cell_type": "code",
      "metadata": {
        "id": "oVIIQVQ7_jCs"
      },
      "source": [
        "# Siguiente lote de 128 - lote 1\n",
        "batch = train_images[128:256]"
      ],
      "execution_count": null,
      "outputs": []
    },
    {
      "cell_type": "code",
      "metadata": {
        "id": "TFnbGKk4_pK6"
      },
      "source": [
        "# n-ésimo lote\n",
        "n = 3 # Ejemplo lote 3\n",
        "batch = train_images[128 * n:128 * (n + 1)]"
      ],
      "execution_count": null,
      "outputs": []
    },
    {
      "cell_type": "markdown",
      "metadata": {
        "id": "_u-H6OUSAqF_"
      },
      "source": [
        "### Ejemplos de tensores de datos en el mundo real\n",
        "- **Datos vectoriales:** Tensores 2D con forma (**muestras**, **características**)\n",
        "  - Ejemplo: 100K personas caracterizadas con un vector de 3 valores (edad, código_postal, renta). Tensor 2D con forma (100000,3)\n",
        "  - Ejemplo: 500 documentos donde, por cada documento, tenemos el número de veces que aparece cada palabra de un diccionario de 20K palabras. Tensor 2D con forma (500, 20000)\n",
        "- **Datos de series temporales o de secuencias:** Tensores 3D con forma (**muestras**, **pasos de tiempo**, **características**)\n",
        "  - Si el tiempo (o la noción de orden secuencial) es importante en los datos, usar un tensor 3D, con un eje de tiempo explícito que, por convención, será el segundo eje)\n",
        "\n",
        "      ![2_2_10.jpeg](data:image/jpeg;base64,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)\n",
        "  - Ejemplo: Cada minuto almacenamos el precio actual de un valor de la bolsa, el precio más alto en ese minuto y el precio más bajo). Cada minuto es un vector 3D, un dia entero es un tensor 2D con forma (480,3), y en un año es un tensor 3D con forma (256,480,3). ¿Y si queremos meter los 35 valores de las empresas del IBEX?\n",
        "- **Imágenes:** Tensores 4D con forma (**muestras**, **altura**, **anchura**, **canales**) o (**muestras**, **canales**, **altura**, **anchura**)\n",
        "  - Suelen tener 3 dimensiones (altura, anchura y profundidad de color), salvo en escala de grises (un único canal) tensor 2D. Convencionalmente, los tensores de imagen son 3D con un canal de color unidimensional para las imágenes de en escala de grises. Lote de 128 imágenes 256 x 256 se almacenarían en un tensor con la forma (128, 256, 256, 1) y (128, 256, 256, 3) si fuera a color\n",
        "  - **TensorFlow** pone el canal al final por convención y **Theano** lo pone al principio (tras el eje del lote). **Keras** es compatible con ambos\n",
        "      ![2_2_11.jpeg](data:image/jpeg;base64,/9j/4AAQSkZJRgABAQAAAQABAAD/2wBDAAYEBAQFBAYFBQYJBgUGCQsIBgYICwwKCgsKCgwQDAwMDAwMEAwODxAPDgwTExQUExMcGxsbHB8fHx8fHx8fHx//2wBDAQcHBw0MDRgQEBgaFREVGh8fHx8fHx8fHx8fHx8fHx8fHx8fHx8fHx8fHx8fHx8fHx8fHx8fHx8fHx8fHx8fHx//wAARCAEJAVsDAREAAhEBAxEB/8QAHwAAAQUBAQEBAQEAAAAAAAAAAAECAwQFBgcICQoL/8QAtRAAAgEDAwIEAwUFBAQAAAF9AQIDAAQRBRIhMUEGE1FhByJxFDKBkaEII0KxwRVS0fAkM2JyggkKFhcYGRolJicoKSo0NTY3ODk6Q0RFRkdISUpTVFVWV1hZWmNkZWZnaGlqc3R1dnd4eXqDhIWGh4iJipKTlJWWl5iZmqKjpKWmp6ipqrKztLW2t7i5usLDxMXGx8jJytLT1NXW19jZ2uHi4+Tl5ufo6erx8vP09fb3+Pn6/8QAHwEAAwEBAQEBAQEBAQAAAAAAAAECAwQFBgcICQoL/8QAtREAAgECBAQDBAcFBAQAAQJ3AAECAxEEBSExBhJBUQdhcRMiMoEIFEKRobHBCSMzUvAVYnLRChYkNOEl8RcYGRomJygpKjU2Nzg5OkNERUZHSElKU1RVVldYWVpjZGVmZ2hpanN0dXZ3eHl6goOEhYaHiImKkpOUlZaXmJmaoqOkpaanqKmqsrO0tba3uLm6wsPExcbHyMnK0tPU1dbX2Nna4uPk5ebn6Onq8vP09fb3+Pn6/9oADAMBAAIRAxEAPwD6poAKACgAoAKACgAoAKACgAoAKACgAoAKACgAoAKACgAoAKACgDi/H/xG0/w48OlQXNuuvXwzALlsQ20ZyDcXGCDtGDsQHLngYAZlAONgX4Nspk1W40rWtSlJe71PUY4Li4mkPVmZ1O0dlRcKowAABQBJs+A//Pn4e/8AAW1/+IphqGz4D/8APn4e/wDAW1/+IoDUNnwH/wCfPw9/4C2v/wARQGobPgP/AM+fh7/wFtf/AIigNQ2fAf8A58/D3/gLa/8AxFAahs+A/wDz5+Hv/AW1/wDiKA1DZ8B/+fPw9/4C2v8A8RQGobPgP/z5+Hv/AAFtf/iKA1DZ8B/+fPw9/wCAtr/8RQGobPgP/wA+fh7/AMBbX/4igNQ2fAf/AJ8/D3/gLa//ABFAahs+A/8Az5+Hv/AW1/8AiKA1DZ8B/wDnz8Pf+Atr/wDEUBqGz4D/APPn4e/8BbX/AOIoDUNnwH/58/D3/gLa/wDxFAahs+A//Pn4e/8AAW1/+IoDUv6R4d+EGsNMulaPod41uEM6w2dqxQSbthYBON2xsfQ0AdB8MrCx0+HxDZ2FvFaWkOryCK3gRY40BtbYkKiAKOSTwKQHZ0AFABQAUAFABQAUAFABQAUAFABQAUAFABQAUAFABQAUAFABQAUAFAHIeOvG8+jJ/Zui2r6l4inQOltEhlW2hZtv2m4VSDsBztTILkYGAGYAHN6HqtvpMEgGkazdXt0/nX9/NagzXExGC7kMAAAMKo+VVAAAApgaX/CY/wDUE1b/AMBf/sqAD/hMf+oJq3/gL/8AZUAH/CY/9QTVv/AX/wCyoAP+Ex/6gmrf+Av/ANlQAf8ACY/9QTVv/AX/AOyoAP8AhMf+oJq3/gL/APZUAH/CY/8AUE1b/wABf/sqAD/hMf8AqCat/wCAv/2VAB/wmP8A1BNW/wDAX/7KgA/4TH/qCat/4C//AGVAB/wmP/UE1b/wF/8AsqAD/hMf+oJq3/gL/wDZUAH/AAmP/UE1b/wF/wDsqAD/AITH/qCat/4C/wD2VAB/wmP/AFBNW/8AAX/7KgA/4TH/AKgmrf8AgL/9lQBLp/iy1u9Ti017G9s7meOSWH7VD5assJUPg5PI8xeKAIrH/koOtf8AYJ0r/wBKdRoA1fAH+t8S/wDYYf8A9JLakB1lABQAUAFABQAUAFABQAUAFABQAUAFABQAUAFABQAUAFABQAUAFAGB471zU9F8MXN9pUMU+ptLbWlik5Kxefe3MdrG0hUE7UaYMQOoGOKAOL0O38YaTbyAaJb3N7dP51/fzaiTNcTEYLuRagDAGFUfKqgAAAUwNL+1PG//AEALT/wYn/5GoAP7U8b/APQAtP8AwYn/AORqAD+1PG//AEALT/wYn/5GoAP7U8b/APQAtP8AwYn/AORqAD+1PG//AEALT/wYn/5GoAP7U8b/APQAtP8AwYn/AORqAD+1PG//AEALT/wYn/5GoAP7U8b/APQAtP8AwYn/AORqAD+1PG//AEALT/wYn/5GoAP7U8b/APQAtP8AwYn/AORqAD+1PG//AEALT/wYn/5GoAP7U8b/APQAtP8AwYn/AORqAD+1PG//AEALT/wYn/5GoAP7U8b/APQAtP8AwYn/AORqAD+1PG//AEALT/wYn/5GoAP7U8b/APQAtP8AwYn/AORqAIpPEniSzurFNS0WCC2vbmO186K9MzI0mcHYYI8jjn5qAJdU/wCR30D/AK9NR/nbUAFj/wAlB1r/ALBOlf8ApTqNAGr4A/1viX/sMP8A+kltSA6ygAoAKACgAoAKACgAoAKACgAoAKACgAoAKACgAoAKACgAoAKACgDlviV/yLMP/YW0X/072lAFmmIKACgAoAKACgAoAKACgAoAKACgAoAKACgAoAKAOe8Y/wDME/7C1r/7NQMNU/5HfQP+vTUf521ABY/8lB1r/sE6V/6U6jQBq+AP9b4l/wCww/8A6SW1IDrKACgAoAKACgAoAKACgAoAKACgAoAKACgAoAKACgAoAKAI7m5t7W3lubmVIbeFGkmmkIVERRlmZjgAADJJoA8i1Hxx4c8X3rDVLgw+FbaTFtpksMpN+6Hie6XYR5AIzHEfvfecdFAAnk/BD/oD6T/4K0/+MUAHk/BD/oD6T/4K0/8AjFAB5PwQ/wCgPpP/AIK0/wDjFAB5PwQ/6A+k/wDgrT/4xQAeT8EP+gPpP/grT/4xQAeT8EP+gPpP/grT/wCMUAHk/BD/AKA+k/8AgrT/AOMUAHk/BD/oD6T/AOCtP/jFAB5PwQ/6A+k/+CtP/jFAB5PwQ/6A+k/+CtP/AIxQAeT8EP8AoD6T/wCCtP8A4xQAeT8EP+gPpP8A4K0/+MUAHk/BD/oD6T/4K0/+MUAHk/BD/oD6T/4K0/8AjFAB5PwQ/wCgPpP/AIK0/wDjFAB5PwQ/6A+k/wDgrT/4xQAjJ8DlUs2kaQqKMsx0xAAB3J8mgCXxT4P8D23h+LUtL0PTbeYXWnyW13b2kEbgPeQ4ZHVFYZU9j0pgd9QI57xj/wAwT/sLWv8A7NQMNU/5HfQP+vTUf521ABY/8lB1r/sE6V/6U6jQBq+AP9b4l/7DD/8ApJbUgOsoAKACgAoAKACgAoAKACgAoAKACgAoAKACgAoAKACgCO5ube1t5bm5lSG3hRpJppCFREUZZmY4AAAySaAPKdX8Saj4o1JXm0LUp/CFuyS2FvEkKjUHHzLcXCzSxOIVODHEV+Y/M3ZQAbP/AAll7/0LWrf98Wn/AMkUwD/hLL3/AKFrVv8Avi0/+SKAD/hLL3/oWtW/74tP/kigA/4Sy9/6FrVv++LT/wCSKAD/AISy9/6FrVv++LT/AOSKAD/hLL3/AKFrVv8Avi0/+SKAD/hLL3/oWtW/74tP/kigA/4Sy9/6FrVv++LT/wCSKAD/AISy9/6FrVv++LT/AOSKAD/hLL3/AKFrVv8Avi0/+SKAD/hLL3/oWtW/74tP/kigA/4Sy9/6FrVv++LT/wCSKAD/AISy9/6FrVv++LT/AOSKAD/hLL3/AKFrVv8Avi0/+SKAD/hLL3/oWtW/74tP/kigA/4Sy9/6FrVv++LT/wCSKAD/AISy9/6FrVv++LT/AOSKAHT6xb6x4Mv9QgjkijktrtPKmAWRWi8yJ1YKWGQyHoTQBm63/wAk60//ALhP/pVb0gOxpiOe8Y/8wT/sLWv/ALNQMNU/5HfQP+vTUf521ABY/wDJQda/7BOlf+lOo0AavgD/AFviX/sMP/6SW1IDrKACgAoA43T/ABp4j1K2t9a0/QkuPDV1IogmW5b7e8DybFultfJ8vy8fPt87ds5xn5aANoeL/DZ1f+yBfx/b/M8ny8Ns87G7yfNx5fm7efL3bsdqAMnS/ib4cn0PTtS1OdNNmv4WuDalmmMUSuyGWV0QbI8qf3jhV7Z4oA2ofFGgT61JokF4kuqRDM1sgZigMaSjewBVdySqy5PI6ZwcADJ/FvhyDV10ia+jTUGZI/KO7aJJRmONpAPLWRwQVRmDEdAaAMjwf8TfDfiPR7S9NxHZXU9j/aFxaSOdsUagGbEzpGkghLAOV+6euKAL8Hj3whNa3d2NSjjt7ERvdSTK8IRJm2RSESqhMbsMK4+U+tAAvj3wgbR7o6lGkUc4tHEivG4ndC6R+W6q+XUZTj5v4c0AK3jrwoumwaj/AGgptrmV4IVVJGmaaPPmRiBVM29ApLLsyoGTgUAVX+IGiJqxt3ljGl/2dDqUeqCTcji4uDbxxqgUklmA24JJJwBmgDb0jWtL1i0N3p04ngDtG5wyskifeR0cK6MM8qwBFAF2gAoAKACgDzHxlJ4o1zxbLpNtZ2d5oGjrBNPY3V3Lai5uZR5kbTeXbXQkiiCgiM4Bbls4AABd+3fEH/oC6T/4Nbn/AOV1MA+3fEH/AKAuk/8Ag1uf/ldQAfbviD/0BdJ/8Gtz/wDK6gA+3fEH/oC6T/4Nbn/5XUAH274g/wDQF0n/AMGtz/8AK6gA+3fEH/oC6T/4Nbn/AOV1AB9u+IP/AEBdJ/8ABrc//K6gA+3fEH/oC6T/AODW5/8AldQAfbviD/0BdJ/8Gtz/APK6gA+3fEH/AKAuk/8Ag1uf/ldQAfbviD/0BdJ/8Gtz/wDK6gA+3fEH/oC6T/4Nbn/5XUAH274g/wDQF0n/AMGtz/8AK6gA+3fEH/oC6T/4Nbn/AOV1AB9u+IP/AEBdJ/8ABrc//K6gA+3fEH/oC6T/AODW5/8AldQAfbviD/0BdJ/8Gtz/APK6gCx4b1rUNSbU4NRs4bK80u7FpKlvO1zE262huVdZHitm+7cgEFOo6mgDH0T/AJJ1qH/cW/8ASq4pAGt/8k60/wD7hP8A6VW9AHY0xHPeMf8AmCf9ha1/9moGGqf8jvoH/XpqP87agAsf+Sg61/2CdK/9KdRoA1fAH+t8S/8AYYf/ANJLakB1lABQAUAcHpXh/wCIGkaVaeGNNlsIdJsmSK21zzZGu0so3BWL7G8DRNKIx5e8zbf4tufloAP+EL8RFxpRNl/Yg13+3vt+9/tf/H6dR8jyPK2Z87935nnf6v8AhzQBnaJ4A8X6FpklrZf2bdy6hpcem3puJJUWF4ZLhkkjKwyGZCt0cxsE5H3sMcAzo/BHhC48Nz6uskyT2929l9kcZ8wx2mnW9mTKCAAxe3Y4BIwRzngAiK38P+JrDV9QjshYy6TqmpxanLdXDyNcRALEJYlg8so7EwDy38wbc5wSo3AGGvw48UweF/Dem2d7aW+o6Lo17pstwd8kf2i5t44o3RWjw6B48tvUcdj0oAqXPww8UXkmozTSwRte2dnaqk+oXmoPvtr1Ll3aWeJdqsoICIgAIz/ESAdzc1XwLq934vbWY5rcWh1DTLwRsz+ZssYLiOUYCFdxadSvOCAckcZBGZqHwy1qTWH1dJUmddR1C5jtIr+903dbX8Vuozc2iiVZEe0HyYKEE5OcYAGL8LdUjt9iwafLGbCK3aykuL8oZ11J7+Qrcs0l0h/efJPuLB/m2AYWgdzr/BOja3pOnXMGrXJuHlunltEaeS7eGAoirE9zKkUkx3KzbnXIDbckDJBGtquq6dpOnzajqVwlrZW67pp5DhQOgHqSSQAByTwOaAMGz8ReM7swXaeGUj0qeRQBNeiPUFhc4817RofKXCncUNxuA4xu4oA6Oa8tIGCTTxxsRkK7Kpx64JHpQAz+09N/5+4f+/if40AcTb6hYf8ACa+JG+0xbWFjtO9cHEJ6HNAGv/aOn/8AP1D/AN/F/wAaYg/tHT/+fqH/AL+L/jQAf2jp/wDz9Q/9/F/xoAP7R0//AJ+of+/i/wCNAB/aOn/8/UP/AH8X/GgA/tHT/wDn6h/7+L/jQAf2jp//AD9Q/wDfxf8AGgA/tHT/APn6h/7+L/jQAf2jp/8Az9Q/9/F/xoAP7R0//n6h/wC/i/40AH9o6f8A8/UP/fxf8aAD+0dP/wCfqH/v4v8AjQAf2jp//P1D/wB/F/xoAP7R0/8A5+of+/i/40AH9o6f/wA/UP8A38X/ABoAliuIJgTDIsgHUowbH5UDH0COe8Mf8hvxd/2Fov8A002FAzP0T/knWof9xb/0quKQBrf/ACTrT/8AuE/+lVvQB2NMRz3jH/mCf9ha1/8AZqBhqn/I76B/16aj/O2oALH/AJKDrX/YJ0r/ANKdRoA1fAH+t8S/9hh//SS2pAdZQAUAFABQAUAFABQAUAFABQAUAFABQBj+MLywtPC+pzX109lb/Z5FNxFI0UqsylV8pkw/mFiAgXknAFAGL4Z8G3Etno2peJtQvdX1O2ghmW1vzB5NtdGMb2WKCKAO6EkK8u9l7HPNAD/iD8Q7LwrbRW8QW612+4sLI7tqjO03FwUDMkCE8kDJPyrz0AOI02X4dKslzrtzDrutXbebf6leWbyM74wFiV42EUSDhI14A9TkkAu/bPhD/wA+Onf+C/8A+00wD7Z8If8Anx07/wAF/wD9poAPtnwh/wCfHTv/AAX/AP2mgA+2fCH/AJ8dO/8ABf8A/aaAD7Z8If8Anx07/wAF/wD9poAPtnwh/wCfHTv/AAX/AP2mgA+2fCH/AJ8dO/8ABf8A/aaAD7Z8If8Anx07/wAF/wD9poAPtnwh/wCfHTv/AAX/AP2mgA+2fCH/AJ8dO/8ABf8A/aaAD7Z8If8Anx07/wAF/wD9poAPtnwh/wCfHTv/AAX/AP2mgA+2fCH/AJ8dO/8ABf8A/aaAD7Z8If8Anx07/wAF/wD9poAPtnwh/wCfHTv/AAX/AP2mgA+2fCH/AJ8dO/8ABf8A/aaALOl2/wALtUvPsVhp2mzXXltN5P2JEYxoyqzDfGuQGkUHHqKAJ/C+n2Fh4m8R29jbRWluDZsIYEWNMmE5O1ABk0AdTQI57wx/yG/F3/YWi/8ATTYUDM/RP+Sdah/3Fv8A0quKQBrf/JOtP/7hP/pVb0AdjTEc94x/5gn/AGFrX/2agYap/wAjvoH/AF6aj/O2oALH/koOtf8AYJ0r/wBKdRoA1fAH+t8S/wDYYf8A9JLakB1lABQAUAFABQAUAFABQAUAFABQAUAFAHHaPZR+IfEupatqji4j0K+ez0jTzgxWzxRozXLL/FO5fKsfuIRtxkkgE/jnxs2gQLZaXaNq3ia8Rm07SYzyVXhp5jkCOFD1JI3H5RyeADj/AA7dXmli4u7vQtX1DXNQIk1PU5I7QNK4Hyoi/acRxRg4jjHAHqSSQDZ/4Sy9/wCha1b/AL4tP/kimAf8JZe/9C1q3/fFp/8AJFAB/wAJZe/9C1q3/fFp/wDJFAB/wll7/wBC1q3/AHxaf/JFAB/wll7/ANC1q3/fFp/8kUAH/CWXv/Qtat/3xaf/ACRQAf8ACWXv/Qtat/3xaf8AyRQAf8JZe/8AQtat/wB8Wn/yRQAf8JZe/wDQtat/3xaf/JFAB/wll7/0LWrf98Wn/wAkUAH/AAll7/0LWrf98Wn/AMkUAH/CWXv/AELWrf8AfFp/8kUAH/CWXv8A0LWrf98Wn/yRQAf8JZe/9C1q3/fFp/8AJFAB/wAJZe/9C1q3/fFp/wDJFAB/wll7/wBC1q3/AHxaf/JFABF4w/06ztLvRtRsft032eCe4S38vzNjSAExzSMMrGe1ABff8lB0X/sE6r/6U6dQAaL/AMjd4k/7cv8A0SaAOhoEc94Y/wCQ34u/7C0X/ppsKBmfon/JOtQ/7i3/AKVXFIA1v/knWn/9wn/0qt6AOxpiOe8Y/wDME/7C1r/7NQMNU/5HfQP+vTUf521ABY/8lB1r/sE6V/6U6jQBq+AP9b4l/wCww/8A6SW1IDrKACgAoAKACgAoAKACgAoAKACgAoAxdf8AFVlpE0FmsE+o6tdhmtNLs1V55FQgM53skccakgF5HVc8ZzgUAUdU1a70jwjrHiT+yIrLWFgkuZbWR0YySQpsi86WHO7Cqo4JwOAaAOO8P6V4+0s3F3c6bpeoa1fsJNS1SXU7hXlYcKiqNOIjiQcRxg4UepJJYGx9u+IP/QF0n/wa3P8A8rqAD7d8Qf8AoC6T/wCDW5/+V1AB9u+IP/QF0n/wa3P/AMrqAD7d8Qf+gLpP/g1uf/ldQAfbviD/ANAXSf8Awa3P/wArqAD7d8Qf+gLpP/g1uf8A5XUAH274g/8AQF0n/wAGtz/8rqAD7d8Qf+gLpP8A4Nbn/wCV1AB9u+IP/QF0n/wa3P8A8rqAD7d8Qf8AoC6T/wCDW5/+V1AB9u+IP/QF0n/wa3P/AMrqAD7d8Qf+gLpP/g1uf/ldQAfbviD/ANAXSf8Awa3P/wArqAD7d8Qf+gLpP/g1uf8A5XUAH274g/8AQF0n/wAGtz/8rqAD7d8Qf+gLpP8A4Nbn/wCV1AFXVPEXjXSrJ7690XTfssJTzvJ1Od5AruEyqtYRgkbs4LD60AWvFn/H74a/7Cyf+klzQAX3/JQdF/7BOq/+lOnUAGi/8jd4k/7cv/RJoA6GgRz3hj/kN+Lv+wtF/wCmmwoGZ+if8k61D/uLf+lVxSANb/5J1p//AHCf/Sq3oA7GmI57xj/zBP8AsLWv/s1Aw1T/AJHfQP8Ar01H+dtQAWP/ACUHWv8AsE6V/wClOo0AavgD/W+Jf+ww/wD6SW1IDrKACgAoAKACgAoAKACgAoAKACgAoA5bwZClxqHiHWZBuu7rUprNZD1W3sP9HjiX0UOsj49WJ70AP+Jn/JP9f/68pf8A0GgCamIKACgAoAKACgAoAKACgAoAKACgAoAKACgAoAKAOe8f/wDIo3//AGy/9HJQNB4s/wCP3w1/2Fk/9JLmgAvv+Sg6L/2CdV/9KdOoANF/5G7xJ/25f+iTQB0NAjnvDH/Ib8Xf9haL/wBNNhQMz9E/5J1qH/cW/wDSq4pAGt/8k60//uE/+lVvQB2NMRz3jH/mCf8AYWtf/ZqBhqn/ACO+gf8AXpqP87agAsf+Sg61/wBgnSv/AEp1GgDV8Af63xL/ANhh/wD0ktqQHWUAFABQAUAFABQAUAFABQAUAFABQBzXgP8A48NV/wCwzqn/AKWSUAJ8TP8Akn+v/wDXlL/6DQBNTEFABQAUAFABQAUAFABQAUAFABQAUAFABQAUAFAHPeP/APkUb/8A7Zf+jkoGg8Wf8fvhr/sLJ/6SXNABff8AJQdF/wCwTqv/AKU6dQAaL/yN3iT/ALcv/RJoA6GgRz3hj/kN+Lv+wtF/6abCgZn6J/yTrUP+4t/6VXFIA1v/AJJ1p/8A3Cf/AEqt6AOxpiOe8Y/8wT/sLWv/ALNQMNU/5HfQP+vTUf521ABY/wDJQda/7BOlf+lOo0AavgD/AFviX/sMP/6SW1IDrKACgAoAKACgAoAKACgAoAKACgAoA5rwH/x4ar/2GdU/9LJKAE+Jn/JP9f8A+vKX/wBBoAmpiCgAoAKACgAoAKACgAoAKACgAoAKACgAoAKACgDnvH//ACKN/wD9sv8A0clA0Hiz/j98Nf8AYWT/ANJLmgAvv+Sg6L/2CdV/9KdOoANF/wCRu8Sf9uX/AKJNAHQ0COe8Mf8AIb8Xf9haL/002FAzP0T/AJJ1qH/cW/8ASq4pAGt/8k60/wD7hP8A6VW9AHY0xHPeMf8AmCf9ha1/9moGGqf8jvoH/XpqP87agAsf+Sg61/2CdK/9KdRoA1fAH+t8S/8AYYf/ANJLakB1lABQAUAFABQAUAFABQAUAFABQAUAc14D/wCPDVf+wzqn/pZJQAnxM/5J/r//AF5S/wDoNAE1MQUAFABQAUAFABQAUAFABQAUAFABQAUAFABQAUAc94//AORRv/8Atl/6OSgaDxZ/x++Gv+wsn/pJc0AF9/yUHRf+wTqv/pTp1ABov/I3eJP+3L/0SaAOhoEc94Y/5Dfi7/sLRf8AppsKBmfon/JOtQ/7i3/pVcUgDW/+Sdaf/wBwn/0qt6AOxpiOe8Y/8wT/ALC1r/7NQMNU/wCR30D/AK9NR/nbUAFj/wAlB1r/ALBOlf8ApTqNAGr4A/1viX/sMP8A+kltSA6ygAoAKACgAoAKACgAoAKACgAoAKAOa8B/8eGq/wDYZ1T/ANLJKAE+Jn/JP9f/AOvKX/0GgCamIKACgAoAKACgAoAKACgAoAKACgAoAKACgAoAKAOe8f8A/Io3/wD2y/8ARyUDQeLP+P3w1/2Fk/8ASS5oAL7/AJKDov8A2CdV/wDSnTqADRf+Ru8Sf9uX/ok0AdDQI57wx/yG/F3/AGFov/TTYUDM/RP+Sdah/wBxb/0quKQBrf8AyTrT/wDuE/8ApVb0AdjTEc94x/5gn/YWtf8A2agYap/yO+gf9emo/wA7agAsf+Sg61/2CdK/9KdRoA1fAH+t8S/9hh//AEktqQHWUAFABQAUAFABQAUAFABQAUAFABQBzXgP/jw1X/sM6p/6WSUAJ8TP+Sf6/wD9eUv/AKDQBNTEFABQAUAFABQAUAFABQAUAFABQAUAFABQAUAFAHPeP/8AkUb/AP7Zf+jkoGg8Wf8AH74a/wCwsn/pJc0AF9/yUHRf+wTqv/pTp1ABov8AyN3iT/ty/wDRJoA6GgRz3hj/AJDfi7/sLRf+mmwoGZ+if8k61D/uLf8ApVcUgDW/+Sdaf/3Cf/Sq3oA7GmI57xj/AMwT/sLWv/s1Aw1T/kd9A/69NR/nbUAFj/yUHWv+wTpX/pTqNAGr4A/1viX/ALDD/wDpJbUgOsoAKACgAoAKACgAoAKACgAoAKACgDmvAf8Ax4ar/wBhnVP/AEskoAT4mf8AJP8AX/8Aryl/9BoAmpiCgAoAKACgAoAKACgAoAKACgAoAKACgAoAKACgDnvH/wDyKN//ANsv/RyUDQeLP+P3w1/2Fk/9JLmgAvv+Sg6L/wBgnVf/AEp06gA0X/kbvEn/AG5f+iTQB0NAjnvDH/Ib8Xf9haL/ANNNhQMz9E/5J1qH/cW/9KrikAa3/wAk60//ALhP/pVb0AdjTEc94x/5gn/YWtf/AGagYap/yO+gf9emo/ztqACx/wCSg61/2CdK/wDSnUaANL4dTRT/APCSSwuskTazMqyIQVJS2t0YAjj5XUqfQgikB19ABQAUAFABQBneItdtNB0W61e8SSS2s1DypCFMhBYL8oYqOp7mgB93q9ta6nYadIrmfUfN8hlA2DyEDtuJIIyDxgGgCK48R6WlneXNrMmoGwO25gtZYWkVycbG3uiK3szCgCy2q6Wt4bJryAXqhWa2MiCUByApKZ3YYkAcc0AZeheNvDus6SNStrlI0EDXU1tK8YnihUkF5Y1Z9o+UnOcUAaGha1Ya5otjrGnvvstQgS4gY4ztkUMAwBOGGcMM8HIoAuSSxxRvLK6xxRqWkdiFVVAySSeAAOpoA5v4eFpvD8t/sKQ6nf31/aBgQxt7m6kkgcg4x5kZVwPQ0AHxM/5J/r//AF5S/wDoNAE1MQUAFABQAUAFABQAUAFABQAUAFABQAUAFABQAUAc94//AORRv/8Atl/6OSgaDxZ/x++Gv+wsn/pJc0AF9/yUHRf+wTqv/pTp1ABov/I3eJP+3L/0SaAOhoEc94Y/5Dfi7/sLRf8AppsKBmfon/JOtQ/7i3/pVcUgDW/+Sdaf/wBwn/0qt6AOxpiOe8Y/8wT/ALC1r/7NQMNU/wCR30D/AK9NR/nbUAYi2Or+KvHGrw6Lcm28PG0s9P1nWoSRJ5tpLdSS2lo2MeYwulDyAny+R9/GEB6XBDoPhvRoLeIQ6ZpNoI4IVJEcSb3EaLk92dwMk5JPPJoA0aACgAoAKACgDm/iNo1/rPgnVtLsIvPvLuIJFEGWPcd6kjcxUDgHnNAGNrHw7CanaS6D58Dm11C3lvJru4nEL3Fv5cLhZ5XOQ5zlBmgDj1+HPil9AntUsb9byLR/7PWK5m0eK3aTzoG8uFbKGJ5EHksyyTyKVBxtJZsAya9EaavY6WunQ3d43jA3Z1qOW3ZipupLgx+WJDdCWCD90waMIETIboKANXw/4A1ax07whD/ZsVvcWUWpRaywMOR9rhkCh2UkuHkKk7c+poA7D4d2F9p3gTQdN1CzawvrCxgtLm2donIkgjEbsGheVCrlSyndnBGQDkAEYPjHwn4su7l76S/Ov6DE7SzeEWRbVZkB3BBPGQZioHEUwKOeCRQB2mjapYarpVpqOntus7mNZIDjaQpH3SpwVZTwVPIIwaAMX4mf8k/1/wD68pf/AEGgCamIKACgAoAKACgAoAKACgAoAKACgAoAKACgAoAKAOe8f/8AIo3/AP2y/wDRyUDQeLP+P3w1/wBhZP8A0kuaAC+/5KDov/YJ1X/0p06gA0X/AJG7xJ/25f8Aok0AdDQI57wx/wAhvxd/2Fov/TTYUDM/RP8AknWof9xb/wBKrikAa3/yTrT/APuE/wDpVb0AdjTEc94x/wCYJ/2FrX/2agZk39he+NvFUFvot3JaaRo63NpresQ8F2nMW+0tJP8AnqBFiSQcRg4Hz9EB6bpel6fpOnW+nadbpa2NqgjggjGFVR/MnqSeSeTzQBHr1ppt5ol/a6pt/s2a3lS8L/dERQhyfTC5OaAKfgm5v7rwZoF1qBJv59OtJbst1854EaTPvuJoA2qACgAoAKACgAoAKAK66bpy3jXy2sK3rja90I1EpUdi+NxHtmgCxQAUAFAHM+AFVNM1KNBiNNY1UIvZQb6ViAOwySeKAD4mf8k/1/8A68pf/QaAJqYgoAKACgAoAKACgAoAKACgAoAKACgAoAKACgAoA57x/wD8ijf/APbL/wBHJQNB4s/4/fDX/YWT/wBJLmgAvv8AkoOi/wDYJ1X/ANKdOoANF/5G7xJ/25f+iTQB0NAjnvDH/Ib8Xf8AYWi/9NNhQMz9E/5J1qH/AHFv/Sq4pAN16OWX4b2EcLiOVxpKxysu8KxubcBiuVyAecZGfWmB0f8Awi3jX/oY7X/wWn/5KpAZ+sfDfxDrkMFrqniUCzinSd/sVn9mnOzOVSYzy7CQSNwUkdqAO20vS9P0nTrfTtOt0tbG1QRwQRjCqo/mT1JPJPJ5oAssyqpZiFUDJJ4AAoA4maa58eM1raZg8FBtt5eEFZNU2nJht89LQ4w8v/LQZVPlyxAO2ACgADAHAA7UALQAUAFABQAUAFABQAUAFABQAUAc14D/AOPDVf8AsM6p/wClklACfEz/AJJ/r/8A15S/+g0ATUxBQAUAFABQAUAFABQAUAFABQAUAFABQAUAFABQBz3j/wD5FG//AO2X/o5KBoPFn/H74a/7Cyf+klzQAX3/ACUHRf8AsE6r/wClOnUAGi/8jd4k/wC3L/0SaAOhoEc94Y/5Dfi7/sLRf+mmwoGZ+if8k61D/uLf+lVxSANWkjXwJo0bMBJPLo8cKE/M7/abdtqjqThScDsCaAPUaACgCO5ube1t5bm5lSG3hRpJppCFREUZZmY4AAAySaAONWG88dkSXUclp4KyDFZyK8VxqeOkkwO1o7UnlYyA0nVsIdrAHaJGkaLHGoSNAFRFGAABgAAcACgB1ABQAUAFABQAUAFABQAUAFABQAUAc14D/wCPDVf+wzqn/pZJQAnxM/5J/r//AF5S/wDoNAE1MQUAFABQAUAFABQAUAFABQAUAFABQAUAFABQAUAc94//AORRv/8Atl/6OSgaDxZ/x++Gv+wsn/pJc0AF9/yUHRf+wTqv/pTp1ABov/I3eJP+3L/0SaAOhoEc94Y/5Dfi7/sLRf8AppsKBmNY39rZ/Di7M7HfcTalbWsSgvJLPNeXCRxRouWd3Y4AA/TNIDpPAng7ULeKx1jxMEfWre3SCxsUO+Gwj2BGVD0edwP3kv8AwFfl+8AdtQBW1PU9P0uwn1DUJ0trK2QvPM5wqqP1JJ4AHJPA5oA5W20vUPF9zHqOv27Wvh6FxJpugTLtkmZTlLi/XPqMxwHher5bAQA7OgAoAKACgAoAKACgAoAKACgAoAKACgAoA5rwH/x4ar/2GdU/9LJKAE+Jn/JP9f8A+vKX/wBBoAmpiCgAoAKACgAoAKACgAoAKACgAoAKACgAoAKACgDnvH//ACKN/wD9sv8A0clA0Hiz/j98Nf8AYWT/ANJLmgAvv+Sg6L/2CdV/9KdOoANF/wCRu8Sf9uX/AKJNAHQ0COQsdZsdIvfF93dsxU6xBHDDGpeWaV9KsAkUSDl3c8Ko/lzSGafw98BXenJHq3iBhLqwe4ksLLIaLT47qV5nRMZDzN5mJJfT5V+XJYA7ygCjrWtafoumy6hfuUgiwoVVLyO7kKkcaLlnd2IVVAyScUAc/pmhajr1/Br3ieLykt2E2i6A2GW1b+Ge5IJWS6x0/hiyQuTliAddQAUAFABQAUAFABQAUAFABQAUAFABQAUAFAHNeA/+PDVf+wzqn/pZJQAnxM/5J/r/AP15S/8AoNAE1MQUAFABQAUAFABQAUAFABQAUAFABQAUAFABQAUAc94//wCRRv8A/tl/6OSgaDxZ/wAfvhr/ALCyf+klzQAX3/JQdF/7BOq/+lOnUAVtP0TV9R8YeInsNWOnJGLJXQW8c+4mE85cjGPakBt/8Ih4q/6Gc/8AgDB/jQAeG/h1aaVrt5r9/eyatq11J5kckqLHFA3kR27tDEvyq7xworP1wMDAJyAdfQBFc3Vrawma6mSCFfvSysEUZ6ZZsCgDldRu9O1Xx14ZiS4iurGG31K9i8tlkT7ZAbWGLkEjcsV1MQOvftQB19ABQAUAFABQAUAFABQAUAFABQAUAFABQAUAFAHNeA/+PDVf+wzqn/pZJQAnxM/5J/r/AP15S/8AoNAE1MQUAFABQAUAFABQAUAFABQAUAFABQAUAFABQAUAc94//wCRRv8A/tl/6OSgaDxZ/wAfvhr/ALCyf+klzQAX3/JQdF/7BOq/+lOnUAaHguSOXxP4qeJg6JLZxOynIEiW+WQkcblDDI7ZFIDsaACgDG8S+J7fRYoYkge/1a9Yx6bpUBHnTuBkn5iAkaDmSRvlUe5AIBm6Z4HiuZxq3i0Q6zrb8orpvs7NT0itIZNwXHQykb36kgYUAE158PPCs2rWGs2tmumatp8qyxXtiqQSOg4eGXau2SORCVYMMgE7SDzQBneO5teTVLMQtqa6EsEjXZ0IQveLcbl8ppUkDSmHYHwIlJLfeGMUAVE+IEmneHdIkF5ZatNdi5X+0dRuV0gO1tLs8lomjll+1YO1kWEDcrZ2cCgCI/F6SfT5NU03RGutPtNLstZ1BnuFilS3vvMxHFGEcSyoIXO0sqnH3hxkHYuTfEXVoL2XS5tDU6yt7a2cdtFd74it7DLNFI8xhQqEEDCUBDt5KluMgjN1T4mz2Wq202oRtYwaSurp4gsIGFwryWVtBcx+VIyRM4Mc6spKr97BAxQBLb/GKJ7K+kewhmurSKC4WOxuzeQiKedYGM8qQq0ZgLh5dqOAuSpbBoHY0NO+JMl3Zx3CabBcq+cT2Op2E9s+GK5ikklt3YcfxRqQeCBQKx29ABQAUAFABQAUAFABQAUAc14D/wCPDVf+wzqn/pZJQAnxM/5J/r//AF5S/wDoNAE1MQUAFABQAUAFABQAUAFABQAUAFABQAUAFABQAUAc94//AORRv/8Atl/6OSgaDxZ/x++Gv+wsn/pJc0AZ2qW2r+IfG9rbeH7gQRabZ3dnrmqgbvs32yS1lWODIKtclLY8HhAQzA8KyA9F0bRtN0bTYdO06EQWsAO1clmZmOWd2OWd3YlmZiSSSSc0AXaAMDxJ4obTpYdM0y3/ALR8Q3qk2dgp2qiA4Nxcvz5UCEjLYJJ4UE8UAL4b8LLpks2pX8/9o+Ib0AX2psuw7AcrBAmW8qBP4UB5PzMSxJoA3qACgDC1vwlbanqEWpQ315pepRRfZzeWMiIzw7t4jkWVJY3UMSVyuRk4IyaAKEXw20W2ktZrG7vbK5t4riCa6ilVpbhLyYXFwZnlSRt8ko3l02sCeCBgAALH4Z+G7HS7zTIDcC2vdPttKl3SAsLez83ytp2/e/0hsk5zxQBW8W/D9tU1O31HT7iS2u5dRsbq+mWQKyRWMUyIYQUcb8zchgQe/HBALTfDTw3MoF75988gvftklw4LXJ1GNIp2m2Kgz5cSqgQKFAAA4oAnTwRF9nljn1jVLiZ0hSC6e4VZIVt5PNj8sRpHGTuA3mRWLjhyw4oA57UvgF8OdXv5tS1q1n1LVLlt91fTTtG8jdAWS38mIYAA+VB09aAPRaACgAoAKACgAoAKACgAoA4zTtSt/DPiXUNI1VxbWetXTX2i3smEheSZVE9oXOFEwlVpFBxvVuMlWoAu/Ez/AJJ/r/8A15S/+g0ATUxBQAUAFABQAUAFABQAUAFABQAUAFABQAUAFABQBz3j/wD5FG//AO2X/o5KBoqa9a3vivWLTRdEuHtv7JuludW1iMKy22YXjEEW4FWuXWbIGCEGGbqqsAd/o2jabo2mw6dp0IgtYAdq5LMzMcs7scs7uxLMzEkkkk5pAXaAOb8QeJrpL7+wPD8S3niGVA8hfm3sYm4FxdkEHB58uMfNIRxhcsAC34b8M2miQzP5jXmq3rCTU9VmC+fcyAYBbAAVEHCRr8qDgDrkA2aACgAoAKACgAoAKACgAoAKACgAoAKACgAoAKACgAoAKAIL2xsr62ktL23jurWUbZbeZFkjYejKwII+ooAytQ8H6TN4UvPDVhGmmWF1DJCq2yKqxebnLInC9TnHSgDM/wCEQ8Vf9DOf/AGD/GgA/wCEQ8Vf9DOf/AGD/GgA/wCEQ8Vf9DOf/AGD/GgA/wCEQ8Vf9DOf/AGD/GgA/wCEQ8Vf9DOf/AGD/GgA/wCEQ8Vf9DOf/AGD/GgA/wCEQ8Vf9DOf/AGD/GgA/wCEQ8Vf9DOf/AGD/GgA/wCEQ8Vf9DOf/AGD/GgA/wCEQ8Vf9DOf/AGD/GgA/wCEQ8Vf9DOf/AGD/GgA/wCEQ8Vf9DOf/AGD/GgA/wCEQ8Vf9DOf/AGD/GgA/wCEQ8Vf9DOf/AGD/GgA/wCEQ8Vf9DOf/AGD/GgA/wCEQ8Vf9DOf/AGD/GgA/wCEQ8Vf9DOf/AGD/GgCpqvw713VtPl0++8Tym0uMCbybSCOTAYN8r5baeODg0Adbo2jabo2mw6dp0IgtYAdq5LMzMcs7scs7uxLMzEkkkk5oAoaN418O6qsixXS215bkrd6ddkQXUDDtLC5DL7Nyp6gkc0AZl/4sudauX0bwZNHcXIO2/10BZrOxHfBB2z3BH3YlJAPL4HBANzw94d03QrE2tmrM8rmW8u5TvnuZ2+/NPJwXdvXoBgAAAAAGnQAUAFABQAUAFABQAUAFABQAUAFABQAUAFABQAUAFABQAUAFABQBxtnqsXhnxHqGm6xKttp2sXJvNFv5DthMkyqJ7R3PypKJVMiA43h8LkqaAOyByMjpQAUAFABQAUAFABQAUAFABQAUAFABQAUAFACMyqpZiFUDJJ4AAoA49NUi8UeK9ObSZBcaJ4fkmubvUYzmGW9eGS1jtonHyyeWk8jyEEhWCjrnAB2NAFDUtB0PVCh1PTrW+MfCG5hjm2/TeGxQBbt7e3toUgt4khgjGI4o1Coo9AowBQBJQAUAFABQAUAFABQAUAFABQAUAFABQAUAFABQAUAFABQAUAFABQAUARXVpa3dvJbXcKXFtKNssMqh0YejKwII+tAHPj4Z/D4cJ4esI17JHAiKPoqgKPwFAXD/hWvgH/oA2f/AH6FAB/wrXwD/wBAGz/79CgA/wCFa+Af+gDZ/wDfoUAH/CtfAP8A0AbP/v0KAD/hWvgH/oA2f/foUAH/AArXwD/0AbP/AL9CgDL1vSF8E2kviLQGli0uyHnazom95Ld7ReZpreNyRDNEmXATCuAVIyQwAH6P4a/4Smzh13xYHuDfIs9nobO62lpA4DRI8SkLNPtwZHfOGyEwOoBo/wDCtfAP/QBs/wDv0KAD/hWvgH/oA2f/AH6FAB/wrXwD/wBAGz/79CgA/wCFa+Af+gDZ/wDfoUAH/CtfAP8A0AbP/v0KAD/hWvgH/oA2f/foUAA+Gvw/yC3h6wkAOQslvHIuex2uCDj6UBc6KGCGCFIYI1ihjAWONAFVVHQADAAHoKAH0AFABQAUAFABQAUAFABQAUAFABQAUAFABQAUAFABQAUAFABQAUAFABQAUAFABQAUAFABQAUAFABQBRk1zRI7MXkmoWyWbTG2W5aaMRmcSGExBydu8SqU25zuGOtADdQvtBkaTSL+6tvMukWGSxlkQPIlyHVF8skMfNEcgXjna2OhoAsvdWNq0ds80ULlGeKFmVSY4QN7KpIJVAw3EcDIzQAW+oWFzLJDb3MU0sSo8scbqzIsoJjZgCSA4BKk9e1AE9ABQAUAFABQAUAFABQAUAFABQAUAFABQAUAFABQAUAFABQAUAFABQAUAFABQAUAFABQAUAFABQAUAFABQAUAFABQAUAFAHkOp+HW1jxTq/gdgUs1kvfEEUvPytfWqwQke4vLi5lU9igPUUDItK13V9QtNO8WxoYLzX9bsrMwEAEw2dlJFJA2egF6s/IPTv3oAzLm6h1SztmbW7jUdbuPC+ryazYtIC9veGG38xBCo3Wx8wNGYuOnTOSQBkMz2+j+KfEOj6vcB9H0PSbuykt5w0UksNtK370gMJVypQqxIxnjOCAD3mgQUAFABQAUAFABQAUAFABQAUAFABQAUAFABQAUAFABQAUAFABQAUAFABQAUAFABQAUAFABQAUAFABQAUAFABQAUAFABQAUAFADU+8/wDvf+yigB1ABQAUAFABQAUAFABQAUAFABQAUAFABQAUAFABQAUAFABQAUAFABQB/9k=)\n",
        "- **Vídeo:** Tensores 5D con forma (**muestras**, **fotogramas**, **altura**, **anchura**, **canales**) o (**muestras**, **fotogramas**, **canales**, **altura**, **anchura**).\n",
        "  - Un video es entendido como una muestra de fotogramas, siendo cada uno de ellos una imagen a color. 1 Fotograma se guarda en un tensor 3D (altura, anchura, profundidad_de_color), una secuencia de fotogramas se pueden guardar en un tensor 4D (fotograma, altura, anchura, profundidad_de_color), por tanto, un lote de distintos vídeos será un tensor 5D con forma (muestras, fotogramas, altura, anchura, profundidad_color)\n",
        "  - Ejemplo(4, 240, 144, 256, 3) sería un lote de 4 vídeos videos de 60 segundos (muestreados a 4 fps)  144 x 256 a color. Darse cuenta que serían más de 106 Millones de valores... Si el `dtype` del tensor fuera `float32`, el tensor sería 405MB. De esto nos salva la compresión MPEG."
      ]
    },
    {
      "cell_type": "markdown",
      "metadata": {
        "id": "Hz8liZPjQ7M5"
      },
      "source": [
        "---"
      ]
    },
    {
      "cell_type": "code",
      "metadata": {
        "id": "VNakLE9NQ7sL"
      },
      "source": [],
      "execution_count": null,
      "outputs": []
    }
  ]
}